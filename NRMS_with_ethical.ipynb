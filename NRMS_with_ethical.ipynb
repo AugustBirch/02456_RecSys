{
  "cells": [
    {
      "cell_type": "markdown",
      "source": [
        "**Here we import all libraries needed**\n",
        "\n"
      ],
      "metadata": {
        "id": "laucAiJGh5tg"
      }
    },
    {
      "cell_type": "code",
      "execution_count": 1,
      "metadata": {
        "id": "KGdGdZ1MOv5n"
      },
      "outputs": [],
      "source": [
        "# Import required libraries\n",
        "import tensorflow as tf\n",
        "from tensorflow.keras import layers, Model\n",
        "import pandas as pd\n",
        "import numpy as np\n",
        "from sklearn.metrics import roc_auc_score\n",
        "import os\n",
        "from tensorflow.keras.preprocessing.text import Tokenizer"
      ]
    },
    {
      "cell_type": "markdown",
      "source": [
        "**Here we connect our program to google disc and load input data from it**"
      ],
      "metadata": {
        "id": "6dT-O2fFiJDz"
      }
    },
    {
      "cell_type": "code",
      "execution_count": 2,
      "metadata": {
        "colab": {
          "base_uri": "https://localhost:8080/"
        },
        "id": "nOxtE_LBPCv8",
        "outputId": "fe805f3b-f962-4e05-a289-d01ceedc9ed4"
      },
      "outputs": [
        {
          "output_type": "stream",
          "name": "stdout",
          "text": [
            "Drive already mounted at /content/drive; to attempt to forcibly remount, call drive.mount(\"/content/drive\", force_remount=True).\n"
          ]
        }
      ],
      "source": [
        "# Mount Google Drive if using datasets stored there\n",
        "from google.colab import drive\n",
        "drive.mount('/content/drive')"
      ]
    },
    {
      "cell_type": "code",
      "execution_count": 3,
      "metadata": {
        "id": "4Dx4yPBjPCs0"
      },
      "outputs": [],
      "source": [
        "# Set file paths (modify these paths based on where your files are stored)\n",
        "train_path = '/content/drive/MyDrive/deep_learning_project/data/train'  # Adjust to the correct path\n",
        "valid_path = '/content/drive/MyDrive/deep_learning_project/data/validation'  # Adjust to the correct path\n",
        "test_path = '/content/drive/MyDrive/deep_learning_project/data/test'  # Adjust to the correct path"
      ]
    },
    {
      "cell_type": "code",
      "execution_count": 4,
      "metadata": {
        "id": "D5TBHs8OPCqM"
      },
      "outputs": [],
      "source": [
        "# Load the train dataset\n",
        "df_train_history = pd.read_parquet(os.path.join(train_path, 'history.parquet'))\n",
        "df_train_behaviors = pd.read_parquet(os.path.join(train_path, 'behaviors.parquet'))\n",
        "df_train_articles = pd.read_parquet(os.path.join(train_path, 'articles.parquet'))\n",
        "\n",
        "# Load the validation dataset\n",
        "df_valid_history = pd.read_parquet(os.path.join(valid_path, 'history.parquet'))\n",
        "df_valid_behaviors = pd.read_parquet(os.path.join(valid_path, 'behaviors.parquet'))\n",
        "df_valid_articles = pd.read_parquet(os.path.join(valid_path, 'articles.parquet'))\n",
        "\n",
        "# Load the test dataset\n",
        "df_test_history = pd.read_parquet(os.path.join(test_path, 'history.parquet'))\n",
        "df_test_behaviors = pd.read_parquet(os.path.join(test_path, 'behaviors.parquet'))\n",
        "df_test_articles = pd.read_parquet(os.path.join(test_path, 'articles.parquet'))"
      ]
    },
    {
      "cell_type": "code",
      "source": [
        "print(df_train_articles.columns)\n",
        "print(df_train_behaviors.columns)\n",
        "print(df_train_history.columns)"
      ],
      "metadata": {
        "colab": {
          "base_uri": "https://localhost:8080/"
        },
        "id": "lsW2U5cIFa9L",
        "outputId": "428a4fe9-b04d-4683-d473-0855fad32d11"
      },
      "execution_count": 5,
      "outputs": [
        {
          "output_type": "stream",
          "name": "stdout",
          "text": [
            "Index(['article_id', 'title', 'subtitle', 'last_modified_time', 'premium',\n",
            "       'body', 'published_time', 'image_ids', 'article_type', 'url',\n",
            "       'ner_clusters', 'entity_groups', 'topics', 'category', 'subcategory',\n",
            "       'category_str', 'total_inviews', 'total_pageviews', 'total_read_time',\n",
            "       'sentiment_score', 'sentiment_label'],\n",
            "      dtype='object')\n",
            "Index(['impression_id', 'article_id', 'impression_time', 'read_time',\n",
            "       'scroll_percentage', 'device_type', 'article_ids_inview',\n",
            "       'article_ids_clicked', 'user_id', 'is_sso_user', 'gender', 'postcode',\n",
            "       'age', 'is_subscriber', 'session_id', 'next_read_time',\n",
            "       'next_scroll_percentage'],\n",
            "      dtype='object')\n",
            "Index(['user_id', 'impression_time_fixed', 'scroll_percentage_fixed',\n",
            "       'article_id_fixed', 'read_time_fixed'],\n",
            "      dtype='object')\n"
          ]
        }
      ]
    },
    {
      "cell_type": "code",
      "source": [
        "print(\"Train history size:\", df_train_history.shape)\n",
        "print(\"Validation history size:\", df_valid_history.shape)\n",
        "print(\"Test history size:\", df_test_history.shape)"
      ],
      "metadata": {
        "colab": {
          "base_uri": "https://localhost:8080/"
        },
        "id": "7pc50IJrEv9b",
        "outputId": "78add72d-114a-4943-f6fb-82866cf6c3c7"
      },
      "execution_count": 6,
      "outputs": [
        {
          "output_type": "stream",
          "name": "stdout",
          "text": [
            "Train history size: (1590, 5)\n",
            "Validation history size: (1562, 5)\n",
            "Test history size: (1562, 5)\n"
          ]
        }
      ]
    },
    {
      "cell_type": "code",
      "execution_count": 8,
      "metadata": {
        "id": "vZ1TehMbPCnU"
      },
      "outputs": [],
      "source": [
        "# Ensure consistent data types for merging in train dataset\n",
        "df_train_behaviors['article_id'] = df_train_behaviors['article_id'].fillna('-1').astype(str)\n",
        "df_train_articles['article_id'] = df_train_articles['article_id'].astype(str)\n",
        "\n",
        "# Ensure consistent data types for merging in validation dataset\n",
        "df_valid_behaviors['article_id'] = df_valid_behaviors['article_id'].fillna('-1').astype(str)\n",
        "df_valid_articles['article_id'] = df_valid_articles['article_id'].astype(str)\n",
        "\n",
        "# Ensure consistent data types for merging in test dataset\n",
        "df_test_behaviors['article_id'] = df_test_behaviors['article_id'].fillna('-1').astype(str)\n",
        "df_test_articles['article_id'] = df_test_articles['article_id'].astype(str)"
      ]
    },
    {
      "cell_type": "code",
      "execution_count": 9,
      "metadata": {
        "id": "sHDtILv8PCaI"
      },
      "outputs": [],
      "source": [
        "# EMBEDDINGS OF ARTICLES\n",
        "\n",
        "# Import the embedding fle provided by the competition organizers\n",
        "embedding_df = pd.read_parquet('/content/drive/MyDrive/deep_learning_project/data/embeddings/document_vector.parquet')\n",
        "\n",
        "# Check the embedding vectors dimension\n",
        "embedding_dim = len(embedding_df['document_vector'].iloc[0])\n",
        "\n",
        "# Mapping article_id -> embedding index\n",
        "article_to_index = {article_id: idx for idx, article_id in enumerate(embedding_df['article_id'])}\n",
        "\n",
        "# Initialisation of embedding matrix\n",
        "num_articles = len(article_to_index)\n",
        "embedding_matrix = np.zeros((num_articles, embedding_dim))\n",
        "\n",
        "# Puopulate the embedding matrix\n",
        "for idx, row in embedding_df.iterrows():\n",
        "    embedding_matrix[article_to_index[row['article_id']]] = np.array(row['document_vector'])"
      ]
    },
    {
      "cell_type": "markdown",
      "source": [
        "**Here we define functions which are used to pre-process the input data**"
      ],
      "metadata": {
        "id": "pVjrJjlZiVOa"
      }
    },
    {
      "cell_type": "code",
      "execution_count": 10,
      "metadata": {
        "id": "D92TNSRVM_so"
      },
      "outputs": [],
      "source": [
        "from tensorflow.keras.preprocessing.sequence import pad_sequences\n",
        "\n",
        "# Function to transform the history of the user into tensor containing the articles embeddings\n",
        "def process_user_history(df_history, article_to_index, embedding_matrix, max_history_length):\n",
        "\n",
        "    # Initialize a list to store padded embeddings\n",
        "    article_embeddings = []\n",
        "\n",
        "    for article_ids in df_history['article_id_fixed']:\n",
        "        # Collect embeddings for valid article IDs\n",
        "        embeddings = [embedding_matrix[article_to_index[article_id]]\n",
        "                      for article_id in article_ids if article_id in article_to_index]\n",
        "\n",
        "        # Pad or truncate to the fixed history length\n",
        "        if len(embeddings) > max_history_length:\n",
        "            embeddings = embeddings[:max_history_length]\n",
        "        elif len(embeddings) < max_history_length:\n",
        "            embeddings += [np.zeros(embedding_matrix.shape[1])] * (max_history_length - len(embeddings))\n",
        "\n",
        "        article_embeddings.append(embeddings)\n",
        "\n",
        "    # Convert to a NumPy array and ensure correct dtype\n",
        "    padded_array = np.array(article_embeddings, dtype=np.float32)\n",
        "\n",
        "    # Map user to index\n",
        "    user_id_to_index = {user_id: idx for idx, user_id in enumerate(df_history['user_id'].unique())}\n",
        "\n",
        "    return tf.convert_to_tensor(padded_array), user_id_to_index"
      ]
    },
    {
      "cell_type": "code",
      "source": [
        "import pandas as pd\n",
        "\n",
        "def compute_article_age(df_behaviors, df_articles):\n",
        "    # Explode 'article_ids_inview' to have one article per row\n",
        "    df_behaviors_exploded = df_behaviors.explode('article_ids_inview')\n",
        "\n",
        "    # Merge with articles to get 'published_time'\n",
        "    df_merged = df_behaviors_exploded.merge(\n",
        "        df_articles[['article_id', 'published_time']],\n",
        "        left_on='article_ids_inview',\n",
        "        right_on='article_id',\n",
        "        how='left'\n",
        "    )\n",
        "\n",
        "    # Convert timestamps to datetime\n",
        "    df_merged['impression_time'] = pd.to_datetime(df_merged['impression_time'])\n",
        "    df_merged['published_time'] = pd.to_datetime(df_merged['published_time'])\n",
        "\n",
        "    # Compute article age in hours\n",
        "    df_merged['article_age'] = (df_merged['impression_time'] - df_merged['published_time']).dt.total_seconds() / 3600.0\n",
        "    df_merged['article_age'] = df_merged['article_age'].fillna(0)\n",
        "\n",
        "    # Group back to sessions, ensuring 'hour_of_day' and 'day_of_week' are retained\n",
        "    df_grouped = df_merged.groupby('impression_id').agg({\n",
        "        'user_id': 'first',\n",
        "        'session_id': 'first',  # Include session_id\n",
        "        'article_ids_inview': list,\n",
        "        'article_ids_clicked': 'first',\n",
        "        'article_age': list,\n",
        "        'impression_time': 'first',\n",
        "        'hour_of_day': 'first',\n",
        "        'day_of_week': 'first',\n",
        "    }).reset_index()\n",
        "\n",
        "    return df_grouped"
      ],
      "metadata": {
        "id": "kJXQ3STUGQId"
      },
      "execution_count": 11,
      "outputs": []
    },
    {
      "cell_type": "code",
      "source": [
        "def compute_session_time_features(df_behaviors):\n",
        "    df_behaviors['impression_time'] = pd.to_datetime(df_behaviors['impression_time'])\n",
        "    df_behaviors['hour_of_day'] = df_behaviors['impression_time'].dt.hour\n",
        "    df_behaviors['day_of_week'] = df_behaviors['impression_time'].dt.weekday  # 0=Monday, 6=Sunday\n",
        "    return df_behaviors"
      ],
      "metadata": {
        "id": "-BpATMLtGSZe"
      },
      "execution_count": 12,
      "outputs": []
    },
    {
      "cell_type": "code",
      "source": [
        "def compute_user_activity_features(df_behaviors):\n",
        "    df_behaviors = df_behaviors.sort_values(['user_id', 'impression_time'])\n",
        "    df_behaviors['time_since_last_session'] = df_behaviors.groupby('user_id')['impression_time'].diff().dt.total_seconds().fillna(0)\n",
        "    return df_behaviors"
      ],
      "metadata": {
        "id": "rzI-c4nTGWbN"
      },
      "execution_count": 13,
      "outputs": []
    },
    {
      "cell_type": "code",
      "source": [
        "def pad_or_truncate_list(lst, target_length, padding_value):\n",
        "    lst = list(lst)\n",
        "    if len(lst) > target_length:\n",
        "        return lst[:target_length]\n",
        "    else:\n",
        "        return lst + [padding_value] * (target_length - len(lst))"
      ],
      "metadata": {
        "id": "Vshe0lefGr6-"
      },
      "execution_count": 14,
      "outputs": []
    },
    {
      "cell_type": "code",
      "source": [
        "def build_in_session_histories(df_behaviors):\n",
        "    # Sort by user_id, session_id, and impression_time\n",
        "    df_behaviors = df_behaviors.sort_values(['user_id', 'session_id', 'impression_time'])\n",
        "\n",
        "    # Initialize a dictionary to store in-session histories\n",
        "    in_session_histories = {}\n",
        "\n",
        "    # Group by session\n",
        "    grouped = df_behaviors.groupby(['user_id', 'session_id'])\n",
        "\n",
        "    # Iterate over each session\n",
        "    for (user_id, session_id), group in grouped:\n",
        "        clicked_articles = []\n",
        "        for idx, row in group.iterrows():\n",
        "            # Store the current clicked articles\n",
        "            in_session_histories[idx] = list(clicked_articles)\n",
        "\n",
        "            # Update the clicked_articles list with articles clicked in this impression\n",
        "            if row['article_ids_clicked'] is not None:\n",
        "                clicked_articles.extend(row['article_ids_clicked'])\n",
        "    return in_session_histories"
      ],
      "metadata": {
        "id": "gMneUu8LOQ-M"
      },
      "execution_count": 15,
      "outputs": []
    },
    {
      "cell_type": "code",
      "execution_count": 16,
      "metadata": {
        "id": "tmVUFeh6M1qk"
      },
      "outputs": [],
      "source": [
        "def generate_session_labels(df_behaviors, article_to_index, embedding_matrix, max_articles_in_view=10, max_in_session_history=5):\n",
        "    session_data = []\n",
        "\n",
        "    for _, row in df_behaviors.iterrows():\n",
        "        user_id = row['user_id']\n",
        "        impression_id = row['impression_id']\n",
        "        articles_in_view = np.array(row['article_ids_inview'])\n",
        "        articles_clicked = set(row['article_ids_clicked']) if row['article_ids_clicked'] is not None else set()\n",
        "        in_session_history = row['in_session_history']\n",
        "\n",
        "        # Generate embeddings for in-session history\n",
        "        in_session_embeddings = [\n",
        "            embedding_matrix[article_to_index.get(article_id, 0)]\n",
        "            for article_id in in_session_history\n",
        "        ]\n",
        "        # Pad or truncate to max_in_session_history\n",
        "        in_session_embeddings = pad_or_truncate_list(in_session_embeddings, max_in_session_history, np.zeros(embedding_matrix.shape[1]))\n",
        "\n",
        "        # Existing code for article embeddings and labels\n",
        "        embeddings = [\n",
        "            embedding_matrix[article_to_index.get(article_id, 0)]\n",
        "            for article_id in articles_in_view\n",
        "        ]\n",
        "        embeddings = pad_or_truncate_list(embeddings, max_articles_in_view, np.zeros(embedding_matrix.shape[1]))\n",
        "\n",
        "        labels = np.isin(articles_in_view, list(articles_clicked)).astype(int)\n",
        "        labels = pad_or_truncate_list(labels, max_articles_in_view, 0)\n",
        "\n",
        "        session_data.append({\n",
        "            'user_id': user_id,\n",
        "            'impression_id': impression_id,\n",
        "            'article_embeddings': embeddings,\n",
        "            'in_session_embeddings': in_session_embeddings,\n",
        "            'labels': labels,\n",
        "            # Include other features as needed\n",
        "        })\n",
        "\n",
        "    return pd.DataFrame(session_data)"
      ]
    },
    {
      "cell_type": "code",
      "execution_count": 17,
      "metadata": {
        "id": "WM763WuUSrYE"
      },
      "outputs": [],
      "source": [
        "def create_tf_dataset(df_labeled_sessions, user_id_to_index, batch_size):\n",
        "    user_indices = df_labeled_sessions['user_id'].map(user_id_to_index).fillna(0).astype(int).to_numpy()\n",
        "    article_embeddings = np.stack(df_labeled_sessions['article_embeddings'].to_numpy())\n",
        "    in_session_embeddings = np.stack(df_labeled_sessions['in_session_embeddings'].to_numpy())\n",
        "    labels = np.stack(df_labeled_sessions['labels'].to_numpy())\n",
        "\n",
        "    # Convert to TensorFlow tensors and ensure they are on the CPU\n",
        "    with tf.device('/CPU:0'):  # Force tensors to reside on the CPU\n",
        "        user_indices = tf.convert_to_tensor(user_indices, dtype=tf.int32)\n",
        "        article_embeddings = tf.convert_to_tensor(article_embeddings, dtype=tf.float32)\n",
        "        in_session_embeddings = tf.convert_to_tensor(in_session_embeddings, dtype=tf.float32)\n",
        "        labels = tf.convert_to_tensor(labels, dtype=tf.int32) # Assuming labels are integers\n",
        "\n",
        "    dataset = tf.data.Dataset.from_tensor_slices(\n",
        "        ((user_indices, article_embeddings, in_session_embeddings), labels)\n",
        "    ).batch(batch_size)\n",
        "\n",
        "    return dataset"
      ]
    },
    {
      "cell_type": "markdown",
      "source": [
        "**Here we define the model class and its sub-classes**"
      ],
      "metadata": {
        "id": "V9MjwTfHihiH"
      }
    },
    {
      "cell_type": "code",
      "execution_count": 18,
      "metadata": {
        "id": "Epdmy7FQIjAH"
      },
      "outputs": [],
      "source": [
        "import tensorflow as tf\n",
        "from tensorflow.keras import layers, Model\n",
        "from tensorflow.keras.layers import LayerNormalization, Dropout\n",
        "from tensorflow.keras.regularizers import l2\n",
        "\n",
        "class UserEncoder(Model):\n",
        "    def __init__(self, embedding_dim, num_heads, attention_dim, dropout_rate=0.2, **kwargs):\n",
        "        super(UserEncoder, self).__init__(**kwargs)\n",
        "\n",
        "        # Self-attention layer\n",
        "        self.multi_head_attention = layers.MultiHeadAttention(num_heads=num_heads, key_dim=embedding_dim)\n",
        "        self.layer_norm1 = layers.LayerNormalization()\n",
        "        self.dropout1 = layers.Dropout(dropout_rate)\n",
        "\n",
        "        # Additive attention layer\n",
        "        self.additive_attention_dense = layers.Dense(embedding_dim, activation='tanh')\n",
        "        self.layer_norm2 = layers.LayerNormalization()\n",
        "        self.dropout2 = layers.Dropout(dropout_rate)\n",
        "\n",
        "        # Extra dense layer\n",
        "        self.attention_score_dense = layers.Dense(1)\n",
        "        self.softmax = layers.Softmax(axis=1)\n",
        "\n",
        "    def call(self, inputs):\n",
        "\n",
        "        # Self-attention layer\n",
        "        attention_output = self.multi_head_attention(inputs, inputs)\n",
        "        attention_output = self.layer_norm1(attention_output)\n",
        "        attention_output = self.dropout1(attention_output)\n",
        "\n",
        "        # Additive attention layer\n",
        "        additive_attention_output = self.additive_attention_dense(attention_output)\n",
        "        additive_attention_output = self.layer_norm2(additive_attention_output)\n",
        "        additive_attention_output = self.dropout2(additive_attention_output)\n",
        "\n",
        "        # Dense layer\n",
        "        attention_scores = self.attention_score_dense(additive_attention_output)\n",
        "        attention_weights = self.softmax(attention_scores)\n",
        "\n",
        "        weighted_output = tf.reduce_sum(attention_output * attention_weights, axis=1)\n",
        "        return weighted_output"
      ]
    },
    {
      "cell_type": "code",
      "source": [
        "class InSessionEncoder(Model):\n",
        "    def __init__(self, embedding_dim, num_heads, **kwargs):\n",
        "        super(InSessionEncoder, self).__init__(**kwargs)\n",
        "        self.multi_head_attention = layers.MultiHeadAttention(num_heads=num_heads, key_dim=embedding_dim)\n",
        "        self.layer_norm = layers.LayerNormalization()\n",
        "        self.dropout = layers.Dropout(0.2)\n",
        "        self.output_layer = layers.Dense(embedding_dim)\n",
        "\n",
        "    def call(self, inputs):\n",
        "        attention_output = self.multi_head_attention(inputs, inputs)\n",
        "        attention_output = self.layer_norm(attention_output)\n",
        "        attention_output = self.dropout(attention_output)\n",
        "        # Aggregate the outputs\n",
        "        in_session_representation = tf.reduce_mean(attention_output, axis=1)\n",
        "        in_session_representation = self.output_layer(in_session_representation)\n",
        "        return in_session_representation"
      ],
      "metadata": {
        "id": "PKBxQM7POp_v"
      },
      "execution_count": 19,
      "outputs": []
    },
    {
      "cell_type": "code",
      "execution_count": 20,
      "metadata": {
        "id": "lFdvrjB5OP5L"
      },
      "outputs": [],
      "source": [
        "class ClickPredictor(Model):\n",
        "    def __init__(self, input_dim, **kwargs):\n",
        "        super(ClickPredictor, self).__init__(**kwargs)\n",
        "        self.dense1 = layers.Dense(128, activation='relu')\n",
        "        self.dropout = layers.Dropout(0.2)\n",
        "        self.dense2 = layers.Dense(1, activation='sigmoid')\n",
        "\n",
        "    def call(self, inputs):\n",
        "        x = self.dense1(inputs)\n",
        "        x = self.dropout(x)\n",
        "        click_probability = self.dense2(x)\n",
        "        return click_probability"
      ]
    },
    {
      "cell_type": "code",
      "execution_count": 21,
      "metadata": {
        "id": "7XcPxsoUOeAW"
      },
      "outputs": [],
      "source": [
        "import tensorflow as tf\n",
        "from tensorflow.keras import Model\n",
        "from tensorflow.keras.metrics import AUC\n",
        "\n",
        "class NewsRecommendationModel(Model):\n",
        "    def __init__(self, user_histories_tensor, embedding_dim, num_heads, attention_dim, **kwargs):\n",
        "        super(NewsRecommendationModel, self).__init__(**kwargs)\n",
        "        self.user_histories_tensor = user_histories_tensor\n",
        "        self.user_encoder = UserEncoder(embedding_dim=embedding_dim, num_heads=num_heads, attention_dim=attention_dim)\n",
        "        self.in_session_encoder = InSessionEncoder(embedding_dim=embedding_dim, num_heads=num_heads)\n",
        "        self.click_predictor = ClickPredictor(input_dim=3 * embedding_dim)  # Adjust input_dim accordingly\n",
        "\n",
        "    def call(self, inputs):\n",
        "        user_indices, article_embeddings, in_session_embeddings = inputs\n",
        "\n",
        "        # User long-term history\n",
        "        user_histories = tf.gather(self.user_histories_tensor, user_indices)\n",
        "        user_representation = self.user_encoder(user_histories)\n",
        "\n",
        "        # In-session history\n",
        "        in_session_representation = self.in_session_encoder(in_session_embeddings)\n",
        "\n",
        "        # Combine user representation with in-session representation\n",
        "        combined_user_representation = user_representation + in_session_representation\n",
        "\n",
        "        # Prepare for click predictor\n",
        "        batch_size = tf.shape(article_embeddings)[0]\n",
        "        num_articles = tf.shape(article_embeddings)[1]\n",
        "        embedding_dim = tf.shape(article_embeddings)[2]\n",
        "\n",
        "        user_representation_expanded = tf.expand_dims(combined_user_representation, 1)\n",
        "        user_representation_tiled = tf.tile(user_representation_expanded, [1, num_articles, 1])\n",
        "\n",
        "        # Concatenate user and article embeddings\n",
        "        combined_representation = tf.concat([user_representation_tiled, article_embeddings], axis=-1)\n",
        "\n",
        "        # Flatten and predict clicks\n",
        "        combined_flat = tf.reshape(combined_representation, [-1, combined_representation.shape[-1]])\n",
        "        click_probabilities_flat = self.click_predictor(combined_flat)\n",
        "        click_probabilities = tf.reshape(click_probabilities_flat, [batch_size, num_articles])\n",
        "\n",
        "        return click_probabilities"
      ]
    },
    {
      "cell_type": "markdown",
      "source": [
        "**Here we define all the hyperparameters used in the model**"
      ],
      "metadata": {
        "id": "fFrp2S4_qw4f"
      }
    },
    {
      "cell_type": "code",
      "source": [
        "# DEFINE ALL THE HYPERPARAMETERS\n",
        "embedding_dim = 300         # Dimension of the article embedding vectors\n",
        "num_heads = 16              # Number of attention heads in the attention layer\n",
        "attention_dim = 32          # Dimension of the attention space\n",
        "batch_size = 64             # Number of samples used in each training iteration\n",
        "epochs_num = 16             # Number of times the model will iterate over the entire training dataset\n",
        "initial_learning_rate=0.001 # Initial value of learning rate (learning rate is dynamically set by the scheduler)\n",
        "max_history_length = 32     # Maximum length of user history considered by the model\n",
        "max_articles_in_view = 10   # Maximum number of articles in a user's viewing session (if applicable)"
      ],
      "metadata": {
        "id": "5nnyPnJzpymA"
      },
      "execution_count": 22,
      "outputs": []
    },
    {
      "cell_type": "markdown",
      "source": [
        "**Here we pass the input data through the predefined functions (input data pre-processing)**"
      ],
      "metadata": {
        "id": "gypq3MTyi4qj"
      }
    },
    {
      "source": [
        "def prepare_data(df_history, df_behaviors, df_articles, article_to_index, embedding_matrix, max_history_length, is_training=True):\n",
        "\n",
        "    # Compute temporal features\n",
        "    df_behaviors = compute_session_time_features(df_behaviors)\n",
        "    df_behaviors = compute_user_activity_features(df_behaviors)\n",
        "    df_behaviors = compute_article_age(df_behaviors, df_articles)\n",
        "\n",
        "    # Compute and add in-session history\n",
        "    in_session_histories = build_in_session_histories(df_behaviors)\n",
        "    df_behaviors['in_session_history'] = df_behaviors.index.map(in_session_histories)\n",
        "\n",
        "    # Prepare user histories\n",
        "    user_histories_tensor, user_id_to_index = process_user_history(\n",
        "        df_history, article_to_index, embedding_matrix, max_history_length\n",
        "    )\n",
        "\n",
        "    # Generate session labels including temporal features\n",
        "    df_labeled_sessions = generate_session_labels(df_behaviors, article_to_index, embedding_matrix)\n",
        "\n",
        "    # Create dataset including temporal features\n",
        "    dataset = create_tf_dataset(df_labeled_sessions, user_id_to_index, batch_size=32)\n",
        "\n",
        "    return dataset, user_histories_tensor, user_id_to_index\n",
        "\n",
        "# Prepare datasets\n",
        "train_dataset, train_user_histories_tensor, user_id_to_index = prepare_data(df_train_history, df_train_behaviors, df_train_articles, article_to_index, embedding_matrix, max_history_length, is_training=True)\n",
        "validation_dataset, _, _ = prepare_data(df_valid_history, df_valid_behaviors, df_valid_articles, article_to_index, embedding_matrix, max_history_length, is_training=False)\n",
        "test_dataset, _, _ = prepare_data(df_test_history, df_test_behaviors, df_test_articles, article_to_index, embedding_matrix, max_history_length, is_training=False)"
      ],
      "cell_type": "code",
      "metadata": {
        "id": "BiaH7t4ptckr"
      },
      "execution_count": 23,
      "outputs": []
    },
    {
      "cell_type": "markdown",
      "source": [
        "**Here we train and test the model**"
      ],
      "metadata": {
        "id": "Yy3ifD4ekEHc"
      }
    },
    {
      "cell_type": "code",
      "execution_count": 24,
      "metadata": {
        "colab": {
          "base_uri": "https://localhost:8080/"
        },
        "id": "Pag0uwH6PUJc",
        "outputId": "1701a861-42de-4796-e160-57a136330e48"
      },
      "outputs": [
        {
          "output_type": "stream",
          "name": "stdout",
          "text": [
            "Epoch 1/16\n",
            "\u001b[1m773/773\u001b[0m \u001b[32m━━━━━━━━━━━━━━━━━━━━\u001b[0m\u001b[37m\u001b[0m \u001b[1m51s\u001b[0m 45ms/step - auc: 0.5881 - loss: 0.3214 - val_auc: 0.6508 - val_loss: 0.2709 - learning_rate: 9.9189e-04\n",
            "Epoch 2/16\n",
            "\u001b[1m773/773\u001b[0m \u001b[32m━━━━━━━━━━━━━━━━━━━━\u001b[0m\u001b[37m\u001b[0m \u001b[1m21s\u001b[0m 27ms/step - auc: 0.6497 - loss: 0.2730 - val_auc: 0.6593 - val_loss: 0.2698 - learning_rate: 9.8384e-04\n",
            "Epoch 3/16\n",
            "\u001b[1m773/773\u001b[0m \u001b[32m━━━━━━━━━━━━━━━━━━━━\u001b[0m\u001b[37m\u001b[0m \u001b[1m21s\u001b[0m 27ms/step - auc: 0.6620 - loss: 0.2714 - val_auc: 0.6629 - val_loss: 0.2700 - learning_rate: 9.7586e-04\n",
            "Epoch 4/16\n",
            "\u001b[1m773/773\u001b[0m \u001b[32m━━━━━━━━━━━━━━━━━━━━\u001b[0m\u001b[37m\u001b[0m \u001b[1m25s\u001b[0m 32ms/step - auc: 0.6705 - loss: 0.2705 - val_auc: 0.6645 - val_loss: 0.2720 - learning_rate: 9.6795e-04\n",
            "Epoch 5/16\n",
            "\u001b[1m773/773\u001b[0m \u001b[32m━━━━━━━━━━━━━━━━━━━━\u001b[0m\u001b[37m\u001b[0m \u001b[1m21s\u001b[0m 27ms/step - auc: 0.6754 - loss: 0.2698 - val_auc: 0.6648 - val_loss: 0.2708 - learning_rate: 9.6010e-04\n",
            "Epoch 6/16\n",
            "\u001b[1m773/773\u001b[0m \u001b[32m━━━━━━━━━━━━━━━━━━━━\u001b[0m\u001b[37m\u001b[0m \u001b[1m41s\u001b[0m 27ms/step - auc: 0.6792 - loss: 0.2692 - val_auc: 0.6658 - val_loss: 0.2721 - learning_rate: 9.5231e-04\n",
            "Epoch 7/16\n",
            "\u001b[1m773/773\u001b[0m \u001b[32m━━━━━━━━━━━━━━━━━━━━\u001b[0m\u001b[37m\u001b[0m \u001b[1m45s\u001b[0m 33ms/step - auc: 0.6826 - loss: 0.2688 - val_auc: 0.6660 - val_loss: 0.2712 - learning_rate: 9.4458e-04\n",
            "Epoch 8/16\n",
            "\u001b[1m773/773\u001b[0m \u001b[32m━━━━━━━━━━━━━━━━━━━━\u001b[0m\u001b[37m\u001b[0m \u001b[1m36s\u001b[0m 27ms/step - auc: 0.6847 - loss: 0.2684 - val_auc: 0.6661 - val_loss: 0.2715 - learning_rate: 9.3692e-04\n",
            "Epoch 9/16\n",
            "\u001b[1m773/773\u001b[0m \u001b[32m━━━━━━━━━━━━━━━━━━━━\u001b[0m\u001b[37m\u001b[0m \u001b[1m41s\u001b[0m 27ms/step - auc: 0.6867 - loss: 0.2680 - val_auc: 0.6659 - val_loss: 0.2734 - learning_rate: 9.2932e-04\n",
            "Epoch 10/16\n",
            "\u001b[1m773/773\u001b[0m \u001b[32m━━━━━━━━━━━━━━━━━━━━\u001b[0m\u001b[37m\u001b[0m \u001b[1m45s\u001b[0m 33ms/step - auc: 0.6886 - loss: 0.2676 - val_auc: 0.6669 - val_loss: 0.2706 - learning_rate: 9.2178e-04\n",
            "Epoch 11/16\n",
            "\u001b[1m773/773\u001b[0m \u001b[32m━━━━━━━━━━━━━━━━━━━━\u001b[0m\u001b[37m\u001b[0m \u001b[1m37s\u001b[0m 28ms/step - auc: 0.6904 - loss: 0.2671 - val_auc: 0.6666 - val_loss: 0.2708 - learning_rate: 9.1431e-04\n",
            "Epoch 12/16\n",
            "\u001b[1m773/773\u001b[0m \u001b[32m━━━━━━━━━━━━━━━━━━━━\u001b[0m\u001b[37m\u001b[0m \u001b[1m21s\u001b[0m 27ms/step - auc: 0.6928 - loss: 0.2668 - val_auc: 0.6666 - val_loss: 0.2700 - learning_rate: 9.0689e-04\n",
            "Epoch 13/16\n",
            "\u001b[1m773/773\u001b[0m \u001b[32m━━━━━━━━━━━━━━━━━━━━\u001b[0m\u001b[37m\u001b[0m \u001b[1m21s\u001b[0m 27ms/step - auc: 0.6941 - loss: 0.2664 - val_auc: 0.6674 - val_loss: 0.2704 - learning_rate: 8.9954e-04\n",
            "Epoch 14/16\n",
            "\u001b[1m773/773\u001b[0m \u001b[32m━━━━━━━━━━━━━━━━━━━━\u001b[0m\u001b[37m\u001b[0m \u001b[1m21s\u001b[0m 27ms/step - auc: 0.6956 - loss: 0.2661 - val_auc: 0.6662 - val_loss: 0.2708 - learning_rate: 8.9224e-04\n",
            "Epoch 15/16\n",
            "\u001b[1m773/773\u001b[0m \u001b[32m━━━━━━━━━━━━━━━━━━━━\u001b[0m\u001b[37m\u001b[0m \u001b[1m41s\u001b[0m 27ms/step - auc: 0.6963 - loss: 0.2659 - val_auc: 0.6668 - val_loss: 0.2702 - learning_rate: 8.8500e-04\n",
            "Epoch 16/16\n",
            "\u001b[1m773/773\u001b[0m \u001b[32m━━━━━━━━━━━━━━━━━━━━\u001b[0m\u001b[37m\u001b[0m \u001b[1m48s\u001b[0m 36ms/step - auc: 0.6985 - loss: 0.2655 - val_auc: 0.6669 - val_loss: 0.2704 - learning_rate: 8.7782e-04\n"
          ]
        },
        {
          "output_type": "execute_result",
          "data": {
            "text/plain": [
              "<keras.src.callbacks.history.History at 0x7dead2abf910>"
            ]
          },
          "metadata": {},
          "execution_count": 24
        }
      ],
      "source": [
        "from tensorflow.keras.callbacks import ReduceLROnPlateau\n",
        "\n",
        "# Create a model instance\n",
        "model = NewsRecommendationModel(\n",
        "                                user_histories_tensor=train_user_histories_tensor,\n",
        "                                embedding_dim=embedding_dim,\n",
        "                                num_heads=num_heads,\n",
        "                                attention_dim=attention_dim\n",
        "                              )\n",
        "\n",
        "# Define the loss function\n",
        "loss_fn = tf.keras.losses.BinaryCrossentropy()\n",
        "\n",
        "# Define the scheduler (to dynamically set the optimal learning rate)\n",
        "lr_schedule = tf.keras.optimizers.schedules.ExponentialDecay(\n",
        "    initial_learning_rate=initial_learning_rate,\n",
        "    decay_steps=10000,\n",
        "    decay_rate=0.9)\n",
        "\n",
        "# Create optimizer using above scheduler\n",
        "optimizer = tf.keras.optimizers.Adam(learning_rate=lr_schedule)\n",
        "\n",
        "# Define the callback (reduces the learning rate when the validation loss stops to decrease)\n",
        "reduce_lr = ReduceLROnPlateau(monitor='val_loss', factor=0.2,\n",
        "                              patience=5, min_lr=0.001)\n",
        "\n",
        "# Compile the model\n",
        "model.compile(optimizer=optimizer,  # Use the optimizer instance\n",
        "              loss=loss_fn,\n",
        "              metrics=[tf.keras.metrics.AUC(name=\"auc\")])\n",
        "\n",
        "# Train the model\n",
        "model.fit(\n",
        "    train_dataset,\n",
        "    validation_data=validation_dataset,\n",
        "    epochs=epochs_num,\n",
        "    callbacks=[reduce_lr]\n",
        ")\n"
      ]
    },
    {
      "cell_type": "code",
      "execution_count": 25,
      "metadata": {
        "colab": {
          "base_uri": "https://localhost:8080/"
        },
        "id": "aTJISifFd_K1",
        "outputId": "04324a3b-9ca8-4ec2-c766-ca022ccc77a9"
      },
      "outputs": [
        {
          "output_type": "stream",
          "name": "stdout",
          "text": [
            "\u001b[1m793/793\u001b[0m \u001b[32m━━━━━━━━━━━━━━━━━━━━\u001b[0m\u001b[37m\u001b[0m \u001b[1m10s\u001b[0m 10ms/step\n",
            "AUC on test data: 0.6670\n"
          ]
        }
      ],
      "source": [
        "# Make predictions\n",
        "predictions = model.predict(test_dataset)\n",
        "labels = np.concatenate([y for x, y in test_dataset], axis=0)\n",
        "\n",
        "# Flatten arrays\n",
        "predictions_flat = predictions.flatten()\n",
        "labels_flat = labels.flatten()\n",
        "\n",
        "# Compute AUC\n",
        "auc_score = roc_auc_score(labels_flat, predictions_flat)\n",
        "print(f\"AUC on test data: {auc_score:.4f}\")"
      ]
    },
    {
      "cell_type": "markdown",
      "source": [
        "## Ethical aspects"
      ],
      "metadata": {
        "id": "9Wzo7PA_La84"
      }
    },
    {
      "cell_type": "code",
      "source": [
        "# Extract the column article_ids_inview from df_test_behaviors\n",
        "candidate_articles_test = df_test_behaviors['article_ids_inview'].tolist()\n",
        "\n",
        "# Convert the IDs to strings (if needed)\n",
        "candidate_articles_test = [[str(article) for article in articles] for articles in candidate_articles_test]\n",
        "\n",
        "# Convert all article_id values to strings\n",
        "candidate_articles_test = [[str(article) for article in articles] for articles in candidate_articles_test]\n",
        "embedding_df['article_id'] = embedding_df['article_id'].astype(str)\n",
        "\n",
        "# Find common and missing articles\n",
        "candidate_articles_flat = set([article for articles in candidate_articles_test for article in articles])\n",
        "embedding_articles = set(embedding_df['article_id'].astype(str))\n",
        "\n",
        "# Common articles\n",
        "common_articles = candidate_articles_flat.intersection(embedding_articles)\n",
        "print(f\"Number of common articles: {len(common_articles)}\")\n",
        "\n",
        "# Missing articles\n",
        "missing_articles = candidate_articles_flat.difference(embedding_articles)\n",
        "print(f\"Number of missing articles: {len(missing_articles)}\")\n"
      ],
      "metadata": {
        "colab": {
          "base_uri": "https://localhost:8080/"
        },
        "id": "bFyVKucaC7iT",
        "outputId": "22c13ccf-3376-466a-ddbb-0298585c7cfe"
      },
      "execution_count": 26,
      "outputs": [
        {
          "output_type": "stream",
          "name": "stdout",
          "text": [
            "Number of common articles: 2738\n",
            "Number of missing articles: 0\n"
          ]
        }
      ]
    },
    {
      "cell_type": "code",
      "source": [
        "# Extract the Top-N recommendations (e.g., Top-5)\n",
        "top_n = 10\n",
        "recommendations_test = [np.argsort(-pred)[:top_n] for pred in predictions]\n",
        "\n",
        "# Convert indices from recommendations_test to article IDs\n",
        "article_id_recommendations_test = [\n",
        "    [candidate_articles_test[user_idx][idx] for idx in rec_list if idx < len(candidate_articles_test[user_idx])]\n",
        "    for user_idx, rec_list in enumerate(recommendations_test)\n",
        "]\n",
        "\n",
        "# Convert article_id from strings to integers\n",
        "article_id_recommendations_test = [\n",
        "    [int(article) for article in rec_list]\n",
        "    for rec_list in article_id_recommendations_test\n",
        "]\n",
        "\n",
        "# Filter: Keep only article_id values that have embeddings\n",
        "article_id_recommendations_test = [\n",
        "    [article for article in rec_list if article in article_to_index]\n",
        "    for rec_list in article_id_recommendations_test\n",
        "]\n",
        "\n",
        "# Convert article_id values to embedding indices\n",
        "mapped_recommendations = [\n",
        "    [article_to_index[article] for article in rec_list if article in article_to_index]\n",
        "    for rec_list in article_id_recommendations_test\n",
        "]\n",
        "\n",
        "# Retrieve embeddings for the recommended lists\n",
        "recommended_embeddings = [\n",
        "    [embedding_matrix[idx] for idx in rec_list]\n",
        "    for rec_list in mapped_recommendations\n",
        "]\n"
      ],
      "metadata": {
        "id": "Qf-38DWkNUjk"
      },
      "execution_count": 27,
      "outputs": []
    },
    {
      "cell_type": "code",
      "source": [
        "from sklearn.metrics.pairwise import cosine_similarity\n",
        "import numpy as np\n",
        "\n",
        "def calculate_diversity_from_embeddings(recommended_embeddings):\n",
        "    \"\"\"\n",
        "    Calculates the average Diversity Score for the recommended embedding lists.\n",
        "\n",
        "    Args:\n",
        "        recommended_embeddings (list of list): Embeddings for the recommendation lists of each user.\n",
        "\n",
        "    Returns:\n",
        "        float: Average Diversity Score for all lists.\n",
        "    \"\"\"\n",
        "    diversities = []\n",
        "    for rec_list in recommended_embeddings:\n",
        "        if len(rec_list) > 1:  # If the list contains at least 2 articles\n",
        "            similarity_matrix = cosine_similarity(rec_list)\n",
        "            # Diversity: 1 - average similarity\n",
        "            pairwise_diversity = 1 - similarity_matrix[np.triu_indices(len(rec_list), k=1)].mean()\n",
        "            diversities.append(pairwise_diversity)\n",
        "        else:\n",
        "            diversities.append(0)  # If there's only 1 article, diversity = 0\n",
        "\n",
        "    # Average diversity score\n",
        "    return diversities\n",
        "diversities = calculate_diversity_from_embeddings(recommended_embeddings)\n",
        "# Call the function with the recommended embeddings\n",
        "diversity_score = np.mean(calculate_diversity_from_embeddings(recommended_embeddings))\n",
        "print(f\"Diversity Score: {diversity_score:.4f}\")\n"
      ],
      "metadata": {
        "colab": {
          "base_uri": "https://localhost:8080/"
        },
        "id": "KHRsEIo4LS6J",
        "outputId": "0844fbe7-648a-4181-9fc0-b061fa75d704"
      },
      "execution_count": 28,
      "outputs": [
        {
          "output_type": "stream",
          "name": "stdout",
          "text": [
            "Diversity Score: 0.1857\n"
          ]
        }
      ]
    },
    {
      "cell_type": "markdown",
      "metadata": {
        "id": "i6DbH1U9JAzV"
      },
      "source": [
        "Diversity measures how different the articles in each user's ecommendation list are from one another.\n",
        "\n",
        "A Diversity Score of 0.1857 indicates that the articles within each recommendation list are not very diverse. This means that the system tends to recommend articles that are similar in content or topic for each user."
      ]
    },
    {
      "cell_type": "code",
      "execution_count": 29,
      "metadata": {
        "colab": {
          "base_uri": "https://localhost:8080/",
          "height": 571
        },
        "id": "JbfNyfb8JAzW",
        "outputId": "da182a10-b262-4593-bc39-c6660bb04619"
      },
      "outputs": [
        {
          "output_type": "display_data",
          "data": {
            "text/plain": [
              "<Figure size 1000x600 with 1 Axes>"
            ],
            "image/png": "[encoded data removed]"
          },
          "metadata": {}
        }
      ],
      "source": [
        "import matplotlib.pyplot as plt\n",
        "\n",
        "def plot_diversity_boxplot(diversities):\n",
        "    plt.figure(figsize=(10, 6))\n",
        "    plt.boxplot(diversities, vert=False, patch_artist=True, boxprops=dict(facecolor='lightblue', color='blue'),\n",
        "                whiskerprops=dict(color='blue', linewidth=1.5), medianprops=dict(color='red'))\n",
        "    plt.title('Box Plot of Diversity Scores', fontsize=16)\n",
        "    plt.xlabel('Diversity Score', fontsize=14)\n",
        "    plt.show()\n",
        "\n",
        "# Example usage\n",
        "\n",
        "plot_diversity_boxplot(diversities)\n"
      ]
    },
    {
      "cell_type": "code",
      "source": [
        "from collections import Counter\n",
        "\n",
        "clicked_articles_test = df_test_behaviors['article_ids_clicked'].tolist()\n",
        "\n",
        "# Ensure that IDs are strings (to match other data formats)\n",
        "clicked_articles_test = [[str(article) for article in articles] for articles in clicked_articles_test]\n",
        "\n",
        "# Count the frequency of articles in the training set\n",
        "article_counts = Counter(df_train_behaviors['article_id'])\n",
        "# Extract the Top-K most popular articles (e.g., Top-10)\n",
        "baseline_articles = [article for article, _ in article_counts.most_common(10)]\n",
        "\n",
        "# Ensure that IDs are strings\n",
        "baseline_articles = [str(article) for article in baseline_articles]\n",
        "\n",
        "# Convert clicked articles to integers\n",
        "clicked_articles_test = [[int(article) for article in articles] for articles in clicked_articles_test]\n"
      ],
      "metadata": {
        "id": "mX62QBX7PUid"
      },
      "execution_count": 30,
      "outputs": []
    },
    {
      "cell_type": "code",
      "execution_count": 31,
      "metadata": {
        "colab": {
          "base_uri": "https://localhost:8080/"
        },
        "id": "K6YNJCNrJAzW",
        "outputId": "79d836b0-c99a-4f87-c886-bf6d5d91bcc2"
      },
      "outputs": [
        {
          "output_type": "stream",
          "name": "stdout",
          "text": [
            "Serendipity Score: 0.1171\n"
          ]
        }
      ],
      "source": [
        "def calculate_serendipity(recommendations, clicked_articles, baseline_articles):\n",
        "    \"\"\"\n",
        "    Calculate the Serendipity Score for recommendations.\n",
        "\n",
        "    Args:\n",
        "        recommendations (list of list): Lists of recommended article IDs for each user.\n",
        "        clicked_articles (list of list): Lists of article IDs clicked by each user.\n",
        "        baseline_articles (list): List of popular article IDs used as a baseline.\n",
        "\n",
        "    Returns:\n",
        "        float: Average Serendipity Score across all users.\n",
        "    \"\"\"\n",
        "    serendipities = []\n",
        "    for rec_list, clicked in zip(recommendations, clicked_articles):\n",
        "        # Unexpected recommendations: not in baseline\n",
        "        unexpected = [article for article in rec_list if article not in baseline_articles]\n",
        "\n",
        "        # Relevant unexpected recommendations: clicked by the user\n",
        "        relevant = [article for article in unexpected if article in clicked]\n",
        "\n",
        "        # Serendipity score for the user\n",
        "        serendipity_score = len(relevant) / len(rec_list) if len(rec_list) > 0 else 0\n",
        "        serendipities.append(serendipity_score)\n",
        "\n",
        "    return serendipities\n",
        "serendipities = calculate_serendipity(article_id_recommendations_test, clicked_articles_test, baseline_articles)\n",
        "serendipity_score = np.mean(serendipities)\n",
        "print(f\"Serendipity Score: {serendipity_score:.4f}\")"
      ]
    },
    {
      "cell_type": "markdown",
      "metadata": {
        "id": "slyPv6SwJAzX"
      },
      "source": [
        "Serendipity measures the extent to which a recommendation system provides unexpected yet relevant recommendations to the user. It goes beyond accuracy by evaluating whether the recommendations surprise the user in a positive way.\n",
        "\n",
        "A Serendipity Score of 0.1171 indicates that the system provides a small percentage of unexpected but relevant recommendations to the users."
      ]
    },
    {
      "cell_type": "code",
      "execution_count": 32,
      "metadata": {
        "colab": {
          "base_uri": "https://localhost:8080/",
          "height": 571
        },
        "id": "tDeW1d6_JAzX",
        "outputId": "7789a676-c890-4279-fc83-93a74e1dcafa"
      },
      "outputs": [
        {
          "output_type": "display_data",
          "data": {
            "text/plain": [
              "<Figure size 1000x600 with 1 Axes>"
            ],
            "image/png": "[encoded data removed]"
          },
          "metadata": {}
        }
      ],
      "source": [
        "def plot_serendipity_histogram(serendipities):\n",
        "    plt.figure(figsize=(10, 6))\n",
        "    plt.hist(serendipities, bins=20, color='green', alpha=0.7, edgecolor='black')\n",
        "    plt.title('Distribution of Serendipity Scores', fontsize=16)\n",
        "    plt.xlabel('Serendipity Score', fontsize=14)\n",
        "    plt.ylabel('Frequency', fontsize=14)\n",
        "    plt.grid(axis='y', linestyle='--', alpha=0.7)\n",
        "    plt.show()\n",
        "\n",
        "# Example usage\n",
        "plot_serendipity_histogram(serendipities)\n"
      ]
    },
    {
      "cell_type": "code",
      "source": [
        "# Total number of articles in the training set\n",
        "total_count = sum(article_counts.values())\n",
        "\n",
        "# Create article_popularity dictionary\n",
        "article_popularity = {article: count / total_count for article, count in article_counts.items()}"
      ],
      "metadata": {
        "id": "mGOmkcbURKNR"
      },
      "execution_count": 33,
      "outputs": []
    },
    {
      "cell_type": "code",
      "execution_count": 34,
      "metadata": {
        "colab": {
          "base_uri": "https://localhost:8080/"
        },
        "id": "fhG_J5KGJAzX",
        "outputId": "71e3cd4e-6d84-4f30-b659-2aab6b058ae1"
      },
      "outputs": [
        {
          "output_type": "stream",
          "name": "stdout",
          "text": [
            "Novelty Score: 13.8155\n"
          ]
        }
      ],
      "source": [
        "def calculate_novelty(recommendations, article_popularity):\n",
        "    \"\"\"\n",
        "    Calculate the Novelty Score for recommendations.\n",
        "\n",
        "    Args:\n",
        "        recommendations (list of list): Lists of recommended article IDs for each user.\n",
        "        article_popularity (dict): Dictionary mapping article IDs to popularity probabilities.\n",
        "\n",
        "    Returns:\n",
        "        float: Average Novelty Score across all users.\n",
        "    \"\"\"\n",
        "    novelty_scores = []\n",
        "    for rec_list in recommendations:\n",
        "        novelty_sum = 0\n",
        "        for article in rec_list:\n",
        "            # Get the popularity of the article, default to a very small probability\n",
        "            prob = article_popularity.get(article, 1e-6)\n",
        "            novelty_sum += -np.log(prob)\n",
        "\n",
        "        # Average novelty score for the user's recommendation list\n",
        "        novelty_scores.append(novelty_sum / len(rec_list) if len(rec_list) > 0 else 0)\n",
        "\n",
        "    return novelty_scores\n",
        "novelty_scores = calculate_novelty(article_id_recommendations_test, article_popularity)\n",
        "novelty_score = np.mean(novelty_scores)\n",
        "print(f\"Novelty Score: {novelty_score:.4f}\")"
      ]
    },
    {
      "cell_type": "markdown",
      "metadata": {
        "id": "Q8UHBUDlJAzX"
      },
      "source": [
        "Novelty measures how \"new\" or \"unfamiliar\" the recommended items are to the user, often based on their global popularity:\n",
        "\n",
        "Highly popular items are considered less novel because they are likely to be known by most users.\n",
        "Less popular items are considered more novel because they have a higher likelihood of being new to the user.\n",
        "\n",
        "A Novelty Score of 13.8155 indicates that the recommended articles are highly novel, meaning the system suggests articles that are generally less popular and not commonly seen by users."
      ]
    },
    {
      "cell_type": "code",
      "source": [
        "total_articles = embedding_matrix.shape[0]\n"
      ],
      "metadata": {
        "id": "NmJJzyIpShSY"
      },
      "execution_count": 36,
      "outputs": []
    },
    {
      "cell_type": "code",
      "execution_count": 37,
      "metadata": {
        "id": "PZXSoPqeJAzX",
        "colab": {
          "base_uri": "https://localhost:8080/"
        },
        "outputId": "6fb1b288-a196-416f-c8f7-8b4838132416"
      },
      "outputs": [
        {
          "output_type": "stream",
          "name": "stdout",
          "text": [
            "Item Coverage Score: 0.0206\n"
          ]
        }
      ],
      "source": [
        "def calculate_item_coverage(recommendations, total_articles):\n",
        "    \"\"\"\n",
        "    Calculate the Item Coverage for recommendations.\n",
        "\n",
        "    Args:\n",
        "        recommendations (list of list): Lists of recommended article IDs for each user.\n",
        "        total_articles (int): Total number of articles available in the catalog.\n",
        "\n",
        "    Returns:\n",
        "        float: Coverage Score as a fraction of total articles covered.\n",
        "    \"\"\"\n",
        "    # Unique articles recommended across all users\n",
        "    recommended_articles = set(article for rec_list in recommendations for article in rec_list)\n",
        "\n",
        "    # Coverage is the fraction of unique articles recommended\n",
        "    return recommended_articles, len(recommended_articles) / total_articles\n",
        "recommended_articles,_ = calculate_item_coverage(article_id_recommendations_test, total_articles)\n",
        "_,coverage_score = calculate_item_coverage(article_id_recommendations_test, total_articles)\n",
        "print(f\"Item Coverage Score: {coverage_score:.4f}\")"
      ]
    },
    {
      "cell_type": "markdown",
      "metadata": {
        "id": "XzCizCSSJAzX"
      },
      "source": [
        "Coverage evaluates how well the recommendation system utilizes the available content:\n",
        "\n",
        "High Coverage: Suggests that the system explores a wide variety of articles.\n",
        "Low Coverage: Indicates that the system focuses only on a limited set of articles, potentially overlooking many others.\n",
        "\n",
        "An Item Coverage Score of 0.0206 indicates that the recommendation system utilizes only about 2% of the total articles in the catalog across all its recommendations. This suggests that the system focuses on a small subset of articles, likely the ones it deems most relevant for the users. However, this also highlights a limited exploration of the broader article catalog, potentially missing opportunities to diversify the recommendations."
      ]
    },
    {
      "cell_type": "code",
      "execution_count": 38,
      "metadata": {
        "id": "opkPe7AGJAzX",
        "colab": {
          "base_uri": "https://localhost:8080/",
          "height": 523
        },
        "outputId": "0af0f8d9-8bc4-45d8-cf61-7aa61b728cf5"
      },
      "outputs": [
        {
          "output_type": "display_data",
          "data": {
            "text/plain": [
              "<Figure size 800x600 with 1 Axes>"
            ],
            "image/png": "[encoded data removed]"
          },
          "metadata": {}
        }
      ],
      "source": [
        "def plot_coverage_pie(recommended_articles, total_articles):\n",
        "    coverage_score = len(recommended_articles) / total_articles\n",
        "    plt.figure(figsize=(8, 6))\n",
        "    plt.pie(\n",
        "        [coverage_score, 1 - coverage_score],\n",
        "        labels=[\"Covered\", \"Not Covered\"],\n",
        "        autopct=\"%1.1f%%\",\n",
        "        colors=[\"lightblue\", \"lightgrey\"],\n",
        "        startangle=140\n",
        "    )\n",
        "    plt.title(\"Proportion of Catalog Covered\", fontsize=16)\n",
        "    plt.show()\n",
        "\n",
        "# Example usage\n",
        "plot_coverage_pie(recommended_articles, total_articles)"
      ]
    },
    {
      "cell_type": "code",
      "source": [
        "print(f\"Diversity Score: {diversity_score:.4f}\")\n",
        "print(f\"Serendipity Score: {np.mean(serendipities):.4f}\")\n",
        "print(f\"Novelty Score: {np.mean(novelty_scores):.4f}\")\n",
        "print(f\"Item Coverage Score: {coverage_score:.4f}\")\n",
        "print(f\"Unique recommended articles: {len(recommended_articles)}\")\n"
      ],
      "metadata": {
        "id": "gvt6SBq5YHJP"
      },
      "execution_count": 3,
      "outputs": []
    }
  ],
  "metadata": {
    "accelerator": "GPU",
    "colab": {
      "gpuType": "T4",
      "machine_shape": "hm",
      "provenance": []
    },
    "kernelspec": {
      "display_name": "Python 3",
      "name": "python3"
    },
    "language_info": {
      "name": "python"
    }
  },
  "nbformat": 4,
  "nbformat_minor": 0
}