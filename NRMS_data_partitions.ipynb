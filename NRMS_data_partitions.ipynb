{
  "cells": [
    {
      "cell_type": "markdown",
      "source": [
        "**Here we import all libraries needed**\n",
        "\n"
      ],
      "metadata": {
        "id": "laucAiJGh5tg"
      }
    },
    {
      "cell_type": "code",
      "execution_count": null,
      "metadata": {
        "id": "KGdGdZ1MOv5n"
      },
      "outputs": [],
      "source": [
        "# Import required libraries\n",
        "import tensorflow as tf\n",
        "from tensorflow.keras import layers, Model\n",
        "import pandas as pd\n",
        "import numpy as np\n",
        "from sklearn.metrics import roc_auc_score\n",
        "import os\n",
        "from tensorflow.keras.preprocessing.text import Tokenizer"
      ]
    },
    {
      "cell_type": "markdown",
      "source": [
        "**Here we connect our program to google disc and load input data from it**"
      ],
      "metadata": {
        "id": "6dT-O2fFiJDz"
      }
    },
    {
      "cell_type": "code",
      "execution_count": null,
      "metadata": {
        "colab": {
          "base_uri": "https://localhost:8080/"
        },
        "id": "nOxtE_LBPCv8",
        "outputId": "cb65446f-0fa0-4b7f-d080-52e283a1b82e"
      },
      "outputs": [
        {
          "output_type": "stream",
          "name": "stdout",
          "text": [
            "Drive already mounted at /content/drive; to attempt to forcibly remount, call drive.mount(\"/content/drive\", force_remount=True).\n"
          ]
        }
      ],
      "source": [
        "# Mount Google Drive if using datasets stored there\n",
        "from google.colab import drive\n",
        "drive.mount('/content/drive')"
      ]
    },
    {
      "cell_type": "code",
      "execution_count": null,
      "metadata": {
        "id": "4Dx4yPBjPCs0"
      },
      "outputs": [],
      "source": [
        "# Set file paths (modify these paths based on where your files are stored)\n",
        "train_path = '/content/drive/MyDrive/deep_learning_project/data/train'  # Adjust to the correct path\n",
        "valid_path = '/content/drive/MyDrive/deep_learning_project/data/validation'  # Adjust to the correct path\n",
        "test_path = '/content/drive/MyDrive/deep_learning_project/data/test'  # Adjust to the correct path"
      ]
    },
    {
      "cell_type": "code",
      "execution_count": null,
      "metadata": {
        "id": "D5TBHs8OPCqM"
      },
      "outputs": [],
      "source": [
        "# Load the train dataset\n",
        "df_train_history = pd.read_parquet(os.path.join(train_path, 'history.parquet'))\n",
        "df_train_behaviors = pd.read_parquet(os.path.join(train_path, 'behaviors.parquet'))\n",
        "df_train_articles = pd.read_parquet(os.path.join(train_path, 'articles.parquet'))\n",
        "\n",
        "# Load the validation dataset\n",
        "df_valid_history = pd.read_parquet(os.path.join(valid_path, 'history.parquet'))\n",
        "df_valid_behaviors = pd.read_parquet(os.path.join(valid_path, 'behaviors.parquet'))\n",
        "df_valid_articles = pd.read_parquet(os.path.join(valid_path, 'articles.parquet'))\n",
        "\n",
        "# Load the test dataset\n",
        "df_test_history = pd.read_parquet(os.path.join(test_path, 'history.parquet'))\n",
        "df_test_behaviors = pd.read_parquet(os.path.join(test_path, 'behaviors.parquet'))\n",
        "df_test_articles = pd.read_parquet(os.path.join(test_path, 'articles.parquet'))\n",
        "\n",
        "# Delete the article_ids_clicked in test set (so far we use validation set as a test set in true test set there is no such a column so we have to prepare the model for it)\n",
        "df_test_behaviors.drop('article_ids_clicked', axis=1, inplace=True)"
      ]
    },
    {
      "cell_type": "code",
      "execution_count": null,
      "metadata": {
        "id": "vZ1TehMbPCnU"
      },
      "outputs": [],
      "source": [
        "# Ensure consistent data types for merging in train dataset\n",
        "df_train_behaviors['article_id'] = df_train_behaviors['article_id'].fillna('-1').astype(str)\n",
        "df_train_articles['article_id'] = df_train_articles['article_id'].astype(str)\n",
        "\n",
        "# Ensure consistent data types for merging in validation dataset\n",
        "df_valid_behaviors['article_id'] = df_valid_behaviors['article_id'].fillna('-1').astype(str)\n",
        "df_valid_articles['article_id'] = df_valid_articles['article_id'].astype(str)\n",
        "\n",
        "# Ensure consistent data types for merging in test dataset\n",
        "df_test_behaviors['article_id'] = df_test_behaviors['article_id'].fillna('-1').astype(str)\n",
        "df_test_articles['article_id'] = df_test_articles['article_id'].astype(str)"
      ]
    },
    {
      "cell_type": "code",
      "source": [
        "unique_user_ids = df_train_history['user_id'].unique()\n",
        "user_id_to_index = {user_id: idx for idx, user_id in enumerate(unique_user_ids)}"
      ],
      "metadata": {
        "id": "_IoYMLEPUBkR"
      },
      "execution_count": null,
      "outputs": []
    },
    {
      "cell_type": "code",
      "source": [
        "with open('/content/drive/MyDrive/deep_learning_project/data/user_id_to_index.pkl', 'wb') as f:\n",
        "    pickle.dump(user_id_to_index, f)"
      ],
      "metadata": {
        "id": "vzcV-vxiUDrZ"
      },
      "execution_count": null,
      "outputs": []
    },
    {
      "cell_type": "code",
      "execution_count": null,
      "metadata": {
        "id": "sHDtILv8PCaI"
      },
      "outputs": [],
      "source": [
        "# EMBEDDINGS OF ARTICLES\n",
        "\n",
        "# Import the embedding fle provided by the competition organizers\n",
        "embedding_df = pd.read_parquet('/content/drive/MyDrive/deep_learning_project/data/embeddings/document_vector.parquet')\n",
        "\n",
        "# Check the embedding vectors dimension\n",
        "embedding_dim = len(embedding_df['document_vector'].iloc[0])\n",
        "\n",
        "# Mapping article_id -> embedding index\n",
        "article_to_index = {article_id: idx for idx, article_id in enumerate(embedding_df['article_id'])}\n",
        "\n",
        "# Initialisation of embedding matrix\n",
        "num_articles = len(article_to_index)\n",
        "embedding_matrix = np.zeros((num_articles, embedding_dim))\n",
        "\n",
        "# Puopulate the embedding matrix\n",
        "for idx, row in embedding_df.iterrows():\n",
        "    embedding_matrix[article_to_index[row['article_id']]] = np.array(row['document_vector'])"
      ]
    },
    {
      "cell_type": "code",
      "source": [
        "import pickle\n",
        "# Zapisz article_to_index\n",
        "with open('/content/drive/MyDrive/deep_learning_project/data/article_to_index.pkl', 'wb') as f:\n",
        "    pickle.dump(article_to_index, f)\n",
        "\n",
        "# Zapisz embedding_matrix w pliku npz\n",
        "np.save('/content/drive/MyDrive/deep_learning_project/data/embedding_matrix.npy', embedding_matrix)\n",
        "\n",
        "# Zapisz embedding_dim też gdzieś, np. w pickle:\n",
        "with open('/content/drive/MyDrive/deep_learning_project/data/embedding_dim.pkl', 'wb') as f:\n",
        "    pickle.dump(embedding_dim, f)"
      ],
      "metadata": {
        "id": "jasebw3iSepe"
      },
      "execution_count": null,
      "outputs": []
    },
    {
      "cell_type": "code",
      "source": [
        "# # Sample 0.5% of each dataset to create smaller subsets\n",
        "# df_train_history = df_train_history.sample(frac=0.005, random_state=42)\n",
        "# df_train_behaviors = df_train_behaviors.sample(frac=0.005, random_state=42)\n",
        "# df_train_articles = df_train_articles.sample(frac=0.005, random_state=42)\n",
        "\n",
        "# df_valid_history = df_valid_history.sample(frac=0.005, random_state=42)\n",
        "# df_valid_behaviors = df_valid_behaviors.sample(frac=0.005, random_state=42)\n",
        "# df_valid_articles = df_valid_articles.sample(frac=0.005, random_state=42)\n",
        "\n",
        "# df_test_history = df_test_history.sample(frac=0.005, random_state=42)\n",
        "# df_test_behaviors = df_test_behaviors.sample(frac=0.005, random_state=42)\n",
        "# df_test_articles = df_test_articles.sample(frac=0.005, random_state=42)\n",
        "\n",
        "# # Subset the embedding dataframe\n",
        "# # embedding_df = embedding_df.sample(frac=0.005, random_state=42)\n",
        "\n",
        "# # # Recalculate the article-to-index mapping and embedding matrix for the smaller embedding_df\n",
        "# # article_to_index = {article_id: idx for idx, article_id in enumerate(embedding_df['article_id'])}\n",
        "\n",
        "# # # Reinitialize the embedding matrix\n",
        "# # num_articles = len(article_to_index)\n",
        "# # embedding_matrix = np.zeros((num_articles, embedding_dim))\n",
        "\n",
        "# # # Populate the new embedding matrix\n",
        "# # for idx, row in embedding_df.iterrows():\n",
        "# #     embedding_matrix[article_to_index[row['article_id']]] = np.array(row['document_vector'])\n",
        "\n",
        "# # # Your variables now refer to smaller subsets of the original data.\n"
      ],
      "metadata": {
        "id": "a_rfivFzV_YH"
      },
      "execution_count": null,
      "outputs": []
    },
    {
      "cell_type": "markdown",
      "source": [
        "**Here we define functions which are used to pre-process the input data**"
      ],
      "metadata": {
        "id": "pVjrJjlZiVOa"
      }
    },
    {
      "cell_type": "code",
      "execution_count": null,
      "metadata": {
        "id": "D92TNSRVM_so"
      },
      "outputs": [],
      "source": [
        "from tensorflow.keras.preprocessing.sequence import pad_sequences\n",
        "\n",
        "# Function to transform the history of the user into tensor containing the articles embeddings\n",
        "def process_user_history(df_history, article_to_index, embedding_matrix, max_history_length):\n",
        "\n",
        "    # Initialize a list to store padded embeddings\n",
        "    article_embeddings = []\n",
        "\n",
        "    for article_ids in df_history['article_id_fixed']:\n",
        "        # Collect embeddings for valid article IDs\n",
        "        embeddings = [embedding_matrix[article_to_index[article_id]]\n",
        "                      for article_id in article_ids if article_id in article_to_index]\n",
        "\n",
        "        # Pad or truncate to the fixed history length\n",
        "        if len(embeddings) > max_history_length:\n",
        "            embeddings = embeddings[:max_history_length]\n",
        "        elif len(embeddings) < max_history_length:\n",
        "            embeddings += [np.zeros(embedding_matrix.shape[1])] * (max_history_length - len(embeddings))\n",
        "\n",
        "        article_embeddings.append(embeddings)\n",
        "\n",
        "    # Convert to a NumPy array and ensure correct dtype\n",
        "    padded_array = np.array(article_embeddings, dtype=np.float32)\n",
        "\n",
        "    # Map user to index\n",
        "    #user_id_to_index = {user_id: idx for idx, user_id in enumerate(df_history['user_id'].unique())}\n",
        "\n",
        "    return tf.convert_to_tensor(padded_array)#, user_id_to_index"
      ]
    },
    {
      "cell_type": "code",
      "source": [
        "import pandas as pd\n",
        "\n",
        "def compute_article_age(df_behaviors, df_articles):\n",
        "    # Explode 'article_ids_inview' to have one article per row\n",
        "    df_behaviors_exploded = df_behaviors.explode('article_ids_inview')\n",
        "\n",
        "    # Merge with articles to get 'published_time', specify suffixes to avoid column name conflicts\n",
        "    df_merged = df_behaviors_exploded.merge(\n",
        "        df_articles[['article_id', 'published_time']],\n",
        "        left_on='article_ids_inview',\n",
        "        right_on='article_id',\n",
        "        how='left',\n",
        "        suffixes=('', '_article')  # Specifying suffixes\n",
        "    )\n",
        "\n",
        "    # Convert timestamps to datetime\n",
        "    df_merged['impression_time'] = pd.to_datetime(df_merged['impression_time'])\n",
        "    df_merged['published_time'] = pd.to_datetime(df_merged['published_time'])\n",
        "\n",
        "    # Compute article age in hours\n",
        "    df_merged['article_age'] = (df_merged['impression_time'] - df_merged['published_time']).dt.total_seconds() / 3600.0\n",
        "    df_merged['article_age'] = df_merged['article_age'].fillna(0)\n",
        "\n",
        "    # Handle missing 'article_ids_clicked' in test set\n",
        "    if 'article_ids_clicked' in df_merged.columns:\n",
        "        agg_dict = {\n",
        "            'user_id': 'first',\n",
        "            'article_id': 'first',  # From df_behaviors_exploded\n",
        "            'session_id': 'first',\n",
        "            'article_ids_inview': list,\n",
        "            'article_ids_clicked': 'first',\n",
        "            'article_age': list,\n",
        "            'impression_time': 'first',\n",
        "            'hour_of_day': 'first',\n",
        "            'day_of_week': 'first',\n",
        "        }\n",
        "    else:\n",
        "        agg_dict = {\n",
        "            'user_id': 'first',\n",
        "            'article_id': 'first',  # From df_behaviors_exploded\n",
        "            'session_id': 'first',\n",
        "            'article_ids_inview': list,\n",
        "            'article_age': list,\n",
        "            'impression_time': 'first',\n",
        "            'hour_of_day': 'first',\n",
        "            'day_of_week': 'first',\n",
        "        }\n",
        "\n",
        "    df_grouped = df_merged.groupby('impression_id').agg(agg_dict).reset_index()\n",
        "\n",
        "    return df_grouped"
      ],
      "metadata": {
        "id": "kJXQ3STUGQId"
      },
      "execution_count": null,
      "outputs": []
    },
    {
      "cell_type": "code",
      "source": [
        "def compute_session_time_features(df_behaviors):\n",
        "    df_behaviors['impression_time'] = pd.to_datetime(df_behaviors['impression_time'])\n",
        "    df_behaviors['hour_of_day'] = df_behaviors['impression_time'].dt.hour\n",
        "    df_behaviors['day_of_week'] = df_behaviors['impression_time'].dt.weekday  # 0=Monday, 6=Sunday\n",
        "    return df_behaviors"
      ],
      "metadata": {
        "id": "-BpATMLtGSZe"
      },
      "execution_count": null,
      "outputs": []
    },
    {
      "cell_type": "code",
      "source": [
        "def compute_user_activity_features(df_behaviors):\n",
        "    df_behaviors = df_behaviors.sort_values(['user_id', 'impression_time'])\n",
        "    df_behaviors['time_since_last_session'] = df_behaviors.groupby('user_id')['impression_time'].diff().dt.total_seconds().fillna(0)\n",
        "    return df_behaviors"
      ],
      "metadata": {
        "id": "rzI-c4nTGWbN"
      },
      "execution_count": null,
      "outputs": []
    },
    {
      "cell_type": "code",
      "source": [
        "def pad_or_truncate_list(lst, target_length, padding_value):\n",
        "    lst = list(lst)\n",
        "    if len(lst) > target_length:\n",
        "        return lst[:target_length]\n",
        "    else:\n",
        "        return lst + [padding_value] * (target_length - len(lst))"
      ],
      "metadata": {
        "id": "Vshe0lefGr6-"
      },
      "execution_count": null,
      "outputs": []
    },
    {
      "cell_type": "code",
      "source": [
        "def build_in_session_histories(df_behaviors):\n",
        "    # Sort by user_id, session_id, and impression_time\n",
        "    df_behaviors = df_behaviors.sort_values(['user_id', 'session_id', 'impression_time'])\n",
        "\n",
        "    # Initialize a dictionary to store in-session histories\n",
        "    in_session_histories = {}\n",
        "\n",
        "    # Group by session\n",
        "    grouped = df_behaviors.groupby(['user_id', 'session_id'])\n",
        "\n",
        "    # Iterate over each session\n",
        "    for (user_id, session_id), group in grouped:\n",
        "        viewed_articles = []\n",
        "        for idx, row in group.iterrows():\n",
        "            # Store the current viewed articles\n",
        "            in_session_histories[idx] = list(viewed_articles)\n",
        "\n",
        "            # Update the viewed_articles list with the current article\n",
        "            article_id = row['article_id']\n",
        "            if article_id is not None:\n",
        "                viewed_articles.append(article_id)\n",
        "    return in_session_histories"
      ],
      "metadata": {
        "id": "gMneUu8LOQ-M"
      },
      "execution_count": null,
      "outputs": []
    },
    {
      "cell_type": "code",
      "execution_count": null,
      "metadata": {
        "id": "tmVUFeh6M1qk"
      },
      "outputs": [],
      "source": [
        "def generate_session_labels(df_behaviors, article_to_index, embedding_matrix, max_articles_in_view=10, max_in_session_history=5, max_popularity_articles=10):\n",
        "    session_data = []\n",
        "\n",
        "    for _, row in df_behaviors.iterrows():\n",
        "        user_id = row['user_id']\n",
        "        impression_id = row['impression_id']\n",
        "        articles_in_view = np.array(row['article_ids_inview'])\n",
        "        articles_clicked = set(row['article_ids_clicked']) if row['article_ids_clicked'] is not None else set()\n",
        "        in_session_history = row['in_session_history']\n",
        "\n",
        "        # Generate embeddings for in-session history\n",
        "        in_session_embeddings = [\n",
        "            embedding_matrix[article_to_index.get(article_id, 0)]\n",
        "            for article_id in in_session_history\n",
        "        ]\n",
        "\n",
        "        # Pad or truncate to max_in_session_history\n",
        "        in_session_embeddings = pad_or_truncate_list(in_session_embeddings, max_in_session_history, np.zeros(embedding_matrix.shape[1]))\n",
        "\n",
        "        # Popularity articles embeddings\n",
        "        popularity_articles = row['popularity_articles']\n",
        "        popularity_embeddings = [\n",
        "            embedding_matrix[article_to_index.get(article_id, 0)]\n",
        "            for article_id in popularity_articles\n",
        "        ]\n",
        "        popularity_embeddings = pad_or_truncate_list(popularity_embeddings, max_popularity_articles, np.zeros(embedding_matrix.shape[1]))\n",
        "\n",
        "        # Existing code for article embeddings and labels\n",
        "        embeddings = [\n",
        "            embedding_matrix[article_to_index.get(article_id, 0)]\n",
        "            for article_id in articles_in_view\n",
        "        ]\n",
        "        embeddings = pad_or_truncate_list(embeddings, max_articles_in_view, np.zeros(embedding_matrix.shape[1]))\n",
        "\n",
        "        labels = np.isin(articles_in_view, list(articles_clicked)).astype(int)\n",
        "        labels = pad_or_truncate_list(labels, max_articles_in_view, 0)\n",
        "\n",
        "        session_data.append({\n",
        "            'user_id': user_id,\n",
        "            'impression_id': impression_id,\n",
        "            'article_embeddings': embeddings,\n",
        "            'in_session_embeddings': in_session_embeddings,\n",
        "            'popularity_embeddings': popularity_embeddings,\n",
        "            'labels': labels,\n",
        "            # Include other features as needed\n",
        "        })\n",
        "\n",
        "    return pd.DataFrame(session_data)"
      ]
    },
    {
      "cell_type": "code",
      "source": [
        "def prepare_test_sessions(df_behaviors, article_to_index, embedding_matrix, max_articles_in_view=10, max_in_session_history=5, max_popularity_articles=10):\n",
        "    session_data = []\n",
        "\n",
        "    for _, row in df_behaviors.iterrows():\n",
        "        user_id = row['user_id']\n",
        "        impression_id = row['impression_id']\n",
        "        articles_in_view = np.array(row['article_ids_inview'])\n",
        "\n",
        "        # In-session history embeddings\n",
        "        in_session_history = row.get('in_session_history', [])\n",
        "        in_session_embeddings = [\n",
        "            embedding_matrix[article_to_index.get(article_id, 0)]\n",
        "            for article_id in in_session_history\n",
        "        ]\n",
        "        in_session_embeddings = pad_or_truncate_list(in_session_embeddings, max_in_session_history, np.zeros(embedding_matrix.shape[1]))\n",
        "\n",
        "        # Popularity articles embeddings\n",
        "        popularity_articles = row.get('popularity_articles', [])\n",
        "        popularity_embeddings = [\n",
        "            embedding_matrix[article_to_index.get(article_id, 0)]\n",
        "            for article_id in popularity_articles\n",
        "        ]\n",
        "        popularity_embeddings = pad_or_truncate_list(popularity_embeddings, max_popularity_articles, np.zeros(embedding_matrix.shape[1]))\n",
        "\n",
        "        # Article embeddings\n",
        "        embeddings = [\n",
        "            embedding_matrix[article_to_index.get(article_id, 0)]\n",
        "            for article_id in articles_in_view\n",
        "        ]\n",
        "        embeddings = pad_or_truncate_list(embeddings, max_articles_in_view, np.zeros(embedding_matrix.shape[1]))\n",
        "\n",
        "        session_data.append({\n",
        "            'user_id': user_id,\n",
        "            'impression_id': impression_id,\n",
        "            'article_embeddings': embeddings,\n",
        "            'in_session_embeddings': in_session_embeddings,\n",
        "            'popularity_embeddings': popularity_embeddings,\n",
        "            # No labels since we don't have 'article_ids_clicked'\n",
        "        })\n",
        "\n",
        "    return pd.DataFrame(session_data)"
      ],
      "metadata": {
        "id": "v2gIzPRy5wPU"
      },
      "execution_count": null,
      "outputs": []
    },
    {
      "cell_type": "code",
      "source": [
        "def compute_popularity_features(df_behaviors, popularity_window_hours, top_n=10):\n",
        "    \"\"\"\n",
        "    Adds a 'popularity_articles' column to df_behaviors, which lists the top N articles\n",
        "    popular in the last 'popularity_window_hours' before each impression.\n",
        "    \"\"\"\n",
        "    # Convert 'impression_time' to datetime\n",
        "    df_behaviors['impression_time'] = pd.to_datetime(df_behaviors['impression_time'])\n",
        "\n",
        "    # Create a DataFrame 'df_views' containing each viewed article with the corresponding time\n",
        "    df_views = df_behaviors[['impression_time', 'article_id']].dropna(subset=['article_id'])\n",
        "\n",
        "    # Set 'impression_time' as the index and sort it\n",
        "    df_views.set_index('impression_time', inplace=True)\n",
        "    df_views.sort_index(inplace=True)\n",
        "\n",
        "    # Initialize a cache dictionary to store popularity for each time period\n",
        "    popularity_cache = {}\n",
        "\n",
        "    # Time window in Timedelta\n",
        "    time_window = pd.Timedelta(hours=popularity_window_hours)\n",
        "\n",
        "    # Iterate through unique impression times\n",
        "    impression_times = df_behaviors['impression_time'].unique()\n",
        "\n",
        "    for time in impression_times:\n",
        "        if time in popularity_cache:\n",
        "            continue\n",
        "        # Define the time window\n",
        "        start_time = time - time_window\n",
        "        # Ensure that start_time and time are Timestamps\n",
        "        start_time = pd.to_datetime(start_time)\n",
        "        time = pd.to_datetime(time)\n",
        "        # Filter views in the time window\n",
        "        views_in_window = df_views.loc[start_time:time]\n",
        "        # Count article views\n",
        "        article_counts = views_in_window['article_id'].value_counts()\n",
        "        # Get the top N most popular articles\n",
        "        popular_articles = article_counts.head(top_n).index.tolist()\n",
        "        # Store results in the cache\n",
        "        popularity_cache[time] = popular_articles\n",
        "\n",
        "    # Map popularity to df_behaviors\n",
        "    df_behaviors['popularity_articles'] = df_behaviors['impression_time'].map(popularity_cache)\n",
        "\n",
        "    # Replace NaN with an empty list if there are no popular articles\n",
        "    df_behaviors['popularity_articles'] = df_behaviors['popularity_articles'].apply(lambda x: x if isinstance(x, list) else [])\n",
        "\n",
        "    return df_behaviors"
      ],
      "metadata": {
        "id": "5JVQ1gpuOKlG"
      },
      "execution_count": null,
      "outputs": []
    },
    {
      "cell_type": "code",
      "execution_count": null,
      "metadata": {
        "id": "WM763WuUSrYE"
      },
      "outputs": [],
      "source": [
        "def create_tf_dataset(df_labeled_sessions, user_id_to_index, batch_size):\n",
        "    user_indices = df_labeled_sessions['user_id'].map(user_id_to_index).fillna(0).astype(int).to_numpy()\n",
        "    article_embeddings = np.stack(df_labeled_sessions['article_embeddings'].to_numpy())\n",
        "    in_session_embeddings = np.stack(df_labeled_sessions['in_session_embeddings'].to_numpy())\n",
        "    popularity_embeddings = np.stack(df_labeled_sessions['popularity_embeddings'].to_numpy())\n",
        "    labels = np.stack(df_labeled_sessions['labels'].to_numpy())\n",
        "\n",
        "    \"\"\"\n",
        "    # Convert to TensorFlow tensors and ensure they are on the CPU\n",
        "    with tf.device('/CPU:0'):  # Force tensors to reside on the CPU\n",
        "        user_indices = tf.convert_to_tensor(user_indices, dtype=tf.int32)\n",
        "        article_embeddings = tf.convert_to_tensor(article_embeddings, dtype=tf.float32)\n",
        "        in_session_embeddings = tf.convert_to_tensor(in_session_embeddings, dtype=tf.float32)\n",
        "        labels = tf.convert_to_tensor(labels, dtype=tf.int32) # Assuming labels are integers\n",
        "    \"\"\"\n",
        "\n",
        "    dataset = tf.data.Dataset.from_tensor_slices(\n",
        "        ((user_indices, article_embeddings, in_session_embeddings, popularity_embeddings), labels)\n",
        "    ).batch(batch_size)\n",
        "\n",
        "    return dataset"
      ]
    },
    {
      "cell_type": "code",
      "source": [
        "def create_tf_dataset_for_prediction(df_sessions, user_id_to_index, batch_size):\n",
        "    user_indices = df_sessions['user_id'].map(user_id_to_index).astype(int).to_numpy()\n",
        "    article_embeddings = np.stack(df_sessions['article_embeddings'].to_numpy())\n",
        "    in_session_embeddings = np.stack(df_sessions['in_session_embeddings'].to_numpy())\n",
        "    popularity_embeddings = np.stack(df_sessions['popularity_embeddings'].to_numpy())\n",
        "\n",
        "    dataset = tf.data.Dataset.from_tensor_slices((\n",
        "        (user_indices, article_embeddings, in_session_embeddings, popularity_embeddings)\n",
        "    ))\n",
        "\n",
        "    return dataset.batch(batch_size)"
      ],
      "metadata": {
        "id": "GgblNj2a52so"
      },
      "execution_count": null,
      "outputs": []
    },
    {
      "cell_type": "markdown",
      "source": [
        "**Here we define the model class and its sub-classes**"
      ],
      "metadata": {
        "id": "V9MjwTfHihiH"
      }
    },
    {
      "cell_type": "code",
      "execution_count": null,
      "metadata": {
        "id": "Epdmy7FQIjAH"
      },
      "outputs": [],
      "source": [
        "import tensorflow as tf\n",
        "from tensorflow.keras import layers, Model\n",
        "from tensorflow.keras.layers import LayerNormalization, Dropout\n",
        "from tensorflow.keras.regularizers import l2\n",
        "\n",
        "class UserEncoder(Model):\n",
        "    def __init__(self, embedding_dim, num_heads, attention_dim, dropout_rate=0.2, **kwargs):\n",
        "        super(UserEncoder, self).__init__(**kwargs)\n",
        "\n",
        "        # Self-attention layer\n",
        "        self.multi_head_attention = layers.MultiHeadAttention(num_heads=num_heads, key_dim=embedding_dim)\n",
        "        self.layer_norm1 = layers.LayerNormalization()\n",
        "        self.dropout1 = layers.Dropout(dropout_rate)\n",
        "\n",
        "        # Additive attention layer\n",
        "        self.additive_attention_dense = layers.Dense(embedding_dim, activation='tanh')\n",
        "        self.layer_norm2 = layers.LayerNormalization()\n",
        "        self.dropout2 = layers.Dropout(dropout_rate)\n",
        "\n",
        "        # Extra dense layer\n",
        "        self.attention_score_dense = layers.Dense(1)\n",
        "        self.softmax = layers.Softmax(axis=1)\n",
        "\n",
        "    def call(self, inputs):\n",
        "\n",
        "        # Self-attention layer\n",
        "        attention_output = self.multi_head_attention(inputs, inputs)\n",
        "        attention_output = self.layer_norm1(attention_output)\n",
        "        attention_output = self.dropout1(attention_output)\n",
        "\n",
        "        # Additive attention layer\n",
        "        additive_attention_output = self.additive_attention_dense(attention_output)\n",
        "        additive_attention_output = self.layer_norm2(additive_attention_output)\n",
        "        additive_attention_output = self.dropout2(additive_attention_output)\n",
        "\n",
        "        # Dense layer\n",
        "        attention_scores = self.attention_score_dense(additive_attention_output)\n",
        "        attention_weights = self.softmax(attention_scores)\n",
        "\n",
        "        weighted_output = tf.reduce_sum(attention_output * attention_weights, axis=1)\n",
        "        return weighted_output"
      ]
    },
    {
      "cell_type": "code",
      "source": [
        "class InSessionEncoder(Model):\n",
        "    def __init__(self, embedding_dim, num_heads, **kwargs):\n",
        "        super(InSessionEncoder, self).__init__(**kwargs)\n",
        "        self.multi_head_attention = layers.MultiHeadAttention(num_heads=num_heads, key_dim=embedding_dim)\n",
        "        self.layer_norm = layers.LayerNormalization()\n",
        "        self.dropout = layers.Dropout(0.2)\n",
        "        self.output_layer = layers.Dense(embedding_dim)\n",
        "\n",
        "    def call(self, inputs):\n",
        "        attention_output = self.multi_head_attention(inputs, inputs)\n",
        "        attention_output = self.layer_norm(attention_output)\n",
        "        attention_output = self.dropout(attention_output)\n",
        "        # Aggregate the outputs\n",
        "        in_session_representation = tf.reduce_mean(attention_output, axis=1)\n",
        "        in_session_representation = self.output_layer(in_session_representation)\n",
        "        return in_session_representation"
      ],
      "metadata": {
        "id": "PKBxQM7POp_v"
      },
      "execution_count": null,
      "outputs": []
    },
    {
      "cell_type": "code",
      "source": [
        "class PopularityEncoder(Model):\n",
        "    def __init__(self, embedding_dim, num_heads, **kwargs):\n",
        "        super(PopularityEncoder, self).__init__(**kwargs)\n",
        "        self.multi_head_attention = layers.MultiHeadAttention(num_heads=num_heads, key_dim=embedding_dim)\n",
        "        self.layer_norm = layers.LayerNormalization()\n",
        "        self.dropout = layers.Dropout(0.2)\n",
        "        self.output_layer = layers.Dense(embedding_dim)\n",
        "\n",
        "    def call(self, inputs):\n",
        "        # inputs: tensor with dimensions: (batch_size, max_popularity_articles, embedding_dim)\n",
        "        attention_output = self.multi_head_attention(inputs, inputs)\n",
        "        attention_output = self.layer_norm(attention_output)\n",
        "        attention_output = self.dropout(attention_output)\n",
        "        # Aggregation of outputs\n",
        "        popularity_representation = tf.reduce_mean(attention_output, axis=1)\n",
        "        popularity_representation = self.output_layer(popularity_representation)\n",
        "        return popularity_representation"
      ],
      "metadata": {
        "id": "9CDBULAmUU5A"
      },
      "execution_count": null,
      "outputs": []
    },
    {
      "cell_type": "code",
      "execution_count": null,
      "metadata": {
        "id": "lFdvrjB5OP5L"
      },
      "outputs": [],
      "source": [
        "class ClickPredictor(Model):\n",
        "    def __init__(self, input_dim, **kwargs):\n",
        "        super(ClickPredictor, self).__init__(**kwargs)\n",
        "        self.dense1 = layers.Dense(256, activation='relu', kernel_regularizer=tf.keras.regularizers.l2(0.001))\n",
        "        self.dropout1 = layers.Dropout(0.2)\n",
        "        self.dense2 = layers.Dense(128, activation='relu')\n",
        "        self.dropout2 = layers.Dropout(0.2)\n",
        "        self.dense3 = layers.Dense(1, activation='sigmoid')\n",
        "\n",
        "    def call(self, inputs):\n",
        "        x = self.dense1(inputs)\n",
        "        x = self.dropout1(x)\n",
        "        x = self.dense2(x)\n",
        "        x = self.dropout2(x)\n",
        "        click_probability = self.dense3(x)\n",
        "        return click_probability"
      ]
    },
    {
      "cell_type": "code",
      "execution_count": null,
      "metadata": {
        "id": "7XcPxsoUOeAW"
      },
      "outputs": [],
      "source": [
        "import tensorflow as tf\n",
        "from tensorflow.keras import Model\n",
        "from tensorflow.keras.metrics import AUC\n",
        "\n",
        "class NewsRecommendationModel(Model):\n",
        "    def __init__(self, user_histories_tensor, embedding_dim, num_heads, attention_dim, **kwargs):\n",
        "        super(NewsRecommendationModel, self).__init__(**kwargs)\n",
        "        self.user_histories_tensor = user_histories_tensor\n",
        "        self.user_encoder = UserEncoder(embedding_dim=embedding_dim, num_heads=num_heads, attention_dim=attention_dim)\n",
        "        self.in_session_encoder = InSessionEncoder(embedding_dim=embedding_dim, num_heads=num_heads)\n",
        "        self.popularity_encoder = PopularityEncoder(embedding_dim=embedding_dim, num_heads=num_heads)\n",
        "\n",
        "        # Self-attention layer\n",
        "        self.self_attention = layers.MultiHeadAttention(num_heads=num_heads, key_dim=embedding_dim)\n",
        "        self.layer_norm = LayerNormalization()\n",
        "        self.dropout = Dropout(0.2)\n",
        "\n",
        "        # Dense layer for user representation projection\n",
        "        self.user_projection = layers.Dense(embedding_dim, activation='relu')\n",
        "\n",
        "        self.click_predictor = ClickPredictor(input_dim=embedding_dim)\n",
        "\n",
        "    def call(self, inputs):\n",
        "        user_indices, article_embeddings, in_session_embeddings, popularity_embeddings = inputs\n",
        "\n",
        "        # User representation\n",
        "        user_histories = tf.gather(self.user_histories_tensor, user_indices)\n",
        "        user_representation = self.user_encoder(user_histories)\n",
        "\n",
        "        # In-session representation\n",
        "        in_session_representation = self.in_session_encoder(in_session_embeddings)\n",
        "\n",
        "        # Popularity representation\n",
        "        popularity_representation = self.popularity_encoder(popularity_embeddings)\n",
        "\n",
        "        # Combining user representations\n",
        "        combined_user_representation = tf.concat([user_representation, in_session_representation, popularity_representation], axis=-1)  # Shape: (batch_size, combined_dim)\n",
        "\n",
        "        # Projection to embedding_dim\n",
        "        combined_user_representation = self.user_projection(combined_user_representation)  # Shape: (batch_size, embedding_dim)\n",
        "\n",
        "        # Preparing data for attention\n",
        "        batch_size = tf.shape(article_embeddings)[0]\n",
        "        num_articles = tf.shape(article_embeddings)[1]\n",
        "\n",
        "        # Expanding dimensions and concatenation\n",
        "        user_representation_expanded = tf.expand_dims(combined_user_representation, axis=1)  # Shape: (batch_size, 1, embedding_dim)\n",
        "        sequence = tf.concat([user_representation_expanded, article_embeddings], axis=1)  # Shape: (batch_size, num_articles + 1, embedding_dim)\n",
        "\n",
        "        # Applying self-attention\n",
        "        attention_output = self.self_attention(sequence, sequence)\n",
        "        attention_output = self.dropout(attention_output)\n",
        "        attention_output = self.layer_norm(sequence + attention_output)\n",
        "\n",
        "        # Extracting article representations after attention (skipping the first element, which is the user representation)\n",
        "        article_attention_output = attention_output[:, 1:, :]  # Shape: (batch_size, num_articles, embedding_dim)\n",
        "\n",
        "        # Flattening and click prediction for each article\n",
        "        article_flat = tf.reshape(article_attention_output, [-1, embedding_dim])  # Shape: (batch_size * num_articles, embedding_dim)\n",
        "        click_probabilities_flat = self.click_predictor(article_flat)  # Shape: (batch_size * num_articles, 1)\n",
        "        click_probabilities = tf.reshape(click_probabilities_flat, [batch_size, num_articles])  # Shape: (batch_size, num_articles)\n",
        "\n",
        "        return click_probabilities\n",
        "\n"
      ]
    },
    {
      "cell_type": "markdown",
      "source": [
        "**Here we define all the hyperparameters used in the model**"
      ],
      "metadata": {
        "id": "fFrp2S4_qw4f"
      }
    },
    {
      "cell_type": "code",
      "source": [
        "# DEFINE ALL THE HYPERPARAMETERS\n",
        "embedding_dim = 300             # Dimension of the article embedding vectors\n",
        "num_heads = 16                  # Number of attention heads in the attention layer\n",
        "attention_dim = 32              # Dimension of the attention space\n",
        "batch_size = 64                 # Number of samples used in each training iteration\n",
        "epochs_num = 16                 # Number of times the model will iterate over the entire training dataset\n",
        "initial_learning_rate=0.001     # Initial value of learning rate (learning rate is dynamically set by the scheduler)\n",
        "max_history_length = 32         # Maximum length of user history considered by the model\n",
        "max_articles_in_view = 10       # Maximum number of articles in a user's viewing session (if applicable)\n",
        "popularity_window_hours = 48    # Number of hours to consider for popularity calculation\n",
        "top_N_popular_articles = 10     # Number of top popular articles to consider"
      ],
      "metadata": {
        "id": "5nnyPnJzpymA"
      },
      "execution_count": null,
      "outputs": []
    },
    {
      "cell_type": "markdown",
      "source": [
        "**Here we pass the input data through the predefined functions (input data pre-processing)**"
      ],
      "metadata": {
        "id": "gypq3MTyi4qj"
      }
    },
    {
      "cell_type": "code",
      "source": [
        "import pickle\n",
        "\n",
        "with open('/content/drive/MyDrive/deep_learning_project/data/article_to_index.pkl', 'rb') as f:\n",
        "    article_to_index = pickle.load(f)\n",
        "\n",
        "embedding_matrix = np.load('/content/drive/MyDrive/deep_learning_project/data/embedding_matrix.npy')\n",
        "\n",
        "with open('/content/drive/MyDrive/deep_learning_project/data/embedding_dim.pkl', 'rb') as f:\n",
        "    embedding_dim = pickle.load(f)"
      ],
      "metadata": {
        "id": "zoGP-QSSSrow"
      },
      "execution_count": null,
      "outputs": []
    },
    {
      "cell_type": "code",
      "source": [
        "with open('/content/drive/MyDrive/deep_learning_project/data/user_id_to_index.pkl', 'rb') as f:\n",
        "    user_id_to_index = pickle.load(f)"
      ],
      "metadata": {
        "id": "aUIc3cNZUwgS"
      },
      "execution_count": null,
      "outputs": []
    },
    {
      "cell_type": "code",
      "source": [
        "df_train_behaviors = compute_session_time_features(df_train_behaviors)\n",
        "df_train_behaviors = compute_user_activity_features(df_train_behaviors)\n",
        "df_train_behaviors = compute_article_age(df_train_behaviors, df_train_articles)\n",
        "df_train_behaviors = compute_popularity_features(df_train_behaviors, popularity_window_hours, top_N_popular_articles)\n",
        "\n",
        "# Zapisz gotowy df_behaviors do pliku:\n",
        "df_train_behaviors.to_parquet('/content/drive/MyDrive/deep_learning_project/data/train_full_preprocessed.parquet')"
      ],
      "metadata": {
        "id": "K1FFMmVBWkcl"
      },
      "execution_count": null,
      "outputs": []
    },
    {
      "cell_type": "code",
      "source": [
        "df_valid_behaviors = compute_session_time_features(df_valid_behaviors)\n",
        "df_valid_behaviors = compute_user_activity_features(df_valid_behaviors)\n",
        "df_valid_behaviors = compute_article_age(df_valid_behaviors, df_valid_articles)\n",
        "df_valid_behaviors = compute_popularity_features(df_valid_behaviors, popularity_window_hours, top_N_popular_articles)\n",
        "\n",
        "# Zapisz gotowy df_behaviors do pliku:\n",
        "df_valid_behaviors.to_parquet('/content/drive/MyDrive/deep_learning_project/data/valid_full_preprocessed.parquet')"
      ],
      "metadata": {
        "id": "I7ByH_NaXZIu"
      },
      "execution_count": null,
      "outputs": []
    },
    {
      "source": [
        "\"\"\"\n",
        "def prepare_data(df_history, df_behaviors, df_articles, article_to_index, embedding_matrix, max_history_length, popularity_window_hours, top_N_popular_articles, user_id_to_index, is_training=True):\n",
        "\n",
        "    # Compute temporal features\n",
        "    df_behaviors = compute_session_time_features(df_behaviors)\n",
        "    df_behaviors = compute_user_activity_features(df_behaviors)\n",
        "    df_behaviors = compute_article_age(df_behaviors, df_articles)\n",
        "\n",
        "    # Compute and add in-session history\n",
        "    in_session_histories = build_in_session_histories(df_behaviors)\n",
        "    df_behaviors['in_session_history'] = df_behaviors.index.map(in_session_histories)\n",
        "\n",
        "    # Compute popularity features\n",
        "    df_behaviors = compute_popularity_features(df_behaviors, popularity_window_hours, top_N_popular_articles)\n",
        "\n",
        "    # Prepare user histories\n",
        "    #user_histories_tensor, user_id_to_index = process_user_history(\n",
        "    #    df_history, article_to_index, embedding_matrix, max_history_length, user_id_to_index\n",
        "    #)\n",
        "    user_histories_tensor = process_user_history(\n",
        "        df_history, article_to_index, embedding_matrix, max_history_length\n",
        "    )\n",
        "\n",
        "    # Generate session labels including temporal features\n",
        "    df_labeled_sessions = generate_session_labels(df_behaviors, article_to_index, embedding_matrix)\n",
        "\n",
        "    # Create dataset including temporal features\n",
        "    dataset = create_tf_dataset(df_labeled_sessions, user_id_to_index, batch_size=32)\n",
        "\n",
        "    return dataset, user_histories_tensor, user_id_to_index\n",
        "    \"\"\"\n",
        "\n",
        "def prepare_data(df_history, df_behaviors, df_articles, article_to_index, embedding_matrix, max_history_length, user_id_to_index, is_training=True):\n",
        "    # Zakładamy, że df_behaviors jest już wstępnie przetworzony i ma kolumny popularity_articles, hour_of_day, day_of_week, article_age itp.\n",
        "\n",
        "    in_session_histories = build_in_session_histories(df_behaviors)\n",
        "    df_behaviors['in_session_history'] = df_behaviors.index.map(in_session_histories)\n",
        "\n",
        "    # Nie wywołujemy compute_popularity_features, compute_session_time_features, itd. bo już zostały zrobione globalnie\n",
        "\n",
        "    # Teraz process_user_history (zakładając że user_id_to_index i reszta jest globalna lub przekazana)\n",
        "    user_histories_tensor = process_user_history(\n",
        "        df_history, article_to_index, embedding_matrix, max_history_length\n",
        "    )\n",
        "\n",
        "    # Generate session labels\n",
        "    df_labeled_sessions = generate_session_labels(df_behaviors, article_to_index, embedding_matrix)\n",
        "\n",
        "    # Create dataset\n",
        "    dataset = create_tf_dataset(df_labeled_sessions, user_id_to_index, batch_size=32)\n",
        "\n",
        "    return dataset, user_histories_tensor\n",
        "\n",
        "# Prepare datasets\n",
        "#train_dataset, train_user_histories_tensor, user_id_to_index = prepare_data(df_train_history, df_train_behaviors, df_train_articles, article_to_index, embedding_matrix, max_history_length, popularity_window_hours, top_N_popular_articles, user_id_to_index, is_training=True)\n",
        "#validation_dataset, _, _ = prepare_data(df_valid_history, df_valid_behaviors, df_valid_articles, article_to_index, embedding_matrix, max_history_length, popularity_window_hours, top_N_popular_articles, user_id_to_index, is_training=False)"
      ],
      "cell_type": "code",
      "metadata": {
        "id": "BiaH7t4ptckr"
      },
      "execution_count": null,
      "outputs": []
    },
    {
      "cell_type": "markdown",
      "source": [
        "**Here we train and test the model**"
      ],
      "metadata": {
        "id": "Yy3ifD4ekEHc"
      }
    },
    {
      "cell_type": "code",
      "execution_count": null,
      "metadata": {
        "colab": {
          "base_uri": "https://localhost:8080/"
        },
        "id": "Pag0uwH6PUJc",
        "outputId": "36ff035b-8ed2-4b2b-8c72-1ae766b3f53d"
      },
      "outputs": [
        {
          "output_type": "stream",
          "name": "stdout",
          "text": [
            "Epoch 1/16\n",
            "\u001b[1m773/773\u001b[0m \u001b[32m━━━━━━━━━━━━━━━━━━━━\u001b[0m\u001b[37m\u001b[0m \u001b[1m54s\u001b[0m 51ms/step - auc: 0.6720 - loss: 0.4334 - val_auc: 0.7316 - val_loss: 0.2727 - learning_rate: 9.9189e-04\n",
            "Epoch 2/16\n",
            "\u001b[1m773/773\u001b[0m \u001b[32m━━━━━━━━━━━━━━━━━━━━\u001b[0m\u001b[37m\u001b[0m \u001b[1m30s\u001b[0m 39ms/step - auc: 0.7400 - loss: 0.2663 - val_auc: 0.7287 - val_loss: 0.2625 - learning_rate: 9.8384e-04\n",
            "Epoch 3/16\n",
            "\u001b[1m773/773\u001b[0m \u001b[32m━━━━━━━━━━━━━━━━━━━━\u001b[0m\u001b[37m\u001b[0m \u001b[1m32s\u001b[0m 41ms/step - auc: 0.7485 - loss: 0.2581 - val_auc: 0.7237 - val_loss: 0.2635 - learning_rate: 9.7586e-04\n",
            "Epoch 4/16\n",
            "\u001b[1m773/773\u001b[0m \u001b[32m━━━━━━━━━━━━━━━━━━━━\u001b[0m\u001b[37m\u001b[0m \u001b[1m31s\u001b[0m 41ms/step - auc: 0.7524 - loss: 0.2564 - val_auc: 0.7201 - val_loss: 0.2644 - learning_rate: 9.6795e-04\n",
            "Epoch 5/16\n",
            "\u001b[1m773/773\u001b[0m \u001b[32m━━━━━━━━━━━━━━━━━━━━\u001b[0m\u001b[37m\u001b[0m \u001b[1m31s\u001b[0m 41ms/step - auc: 0.7556 - loss: 0.2554 - val_auc: 0.7169 - val_loss: 0.2685 - learning_rate: 9.6010e-04\n",
            "Epoch 6/16\n",
            "\u001b[1m773/773\u001b[0m \u001b[32m━━━━━━━━━━━━━━━━━━━━\u001b[0m\u001b[37m\u001b[0m \u001b[1m31s\u001b[0m 41ms/step - auc: 0.7586 - loss: 0.2545 - val_auc: 0.7201 - val_loss: 0.2657 - learning_rate: 9.5231e-04\n",
            "Epoch 7/16\n",
            "\u001b[1m773/773\u001b[0m \u001b[32m━━━━━━━━━━━━━━━━━━━━\u001b[0m\u001b[37m\u001b[0m \u001b[1m31s\u001b[0m 40ms/step - auc: 0.7610 - loss: 0.2538 - val_auc: 0.7234 - val_loss: 0.2660 - learning_rate: 9.4458e-04\n",
            "Epoch 8/16\n",
            "\u001b[1m773/773\u001b[0m \u001b[32m━━━━━━━━━━━━━━━━━━━━\u001b[0m\u001b[37m\u001b[0m \u001b[1m31s\u001b[0m 41ms/step - auc: 0.7631 - loss: 0.2532 - val_auc: 0.7209 - val_loss: 0.2634 - learning_rate: 9.3692e-04\n",
            "Epoch 9/16\n",
            "\u001b[1m773/773\u001b[0m \u001b[32m━━━━━━━━━━━━━━━━━━━━\u001b[0m\u001b[37m\u001b[0m \u001b[1m31s\u001b[0m 41ms/step - auc: 0.7657 - loss: 0.2523 - val_auc: 0.7136 - val_loss: 0.2674 - learning_rate: 9.2932e-04\n",
            "Epoch 10/16\n",
            "\u001b[1m773/773\u001b[0m \u001b[32m━━━━━━━━━━━━━━━━━━━━\u001b[0m\u001b[37m\u001b[0m \u001b[1m31s\u001b[0m 40ms/step - auc: 0.7672 - loss: 0.2519 - val_auc: 0.7027 - val_loss: 0.2682 - learning_rate: 9.2178e-04\n",
            "Epoch 11/16\n",
            "\u001b[1m773/773\u001b[0m \u001b[32m━━━━━━━━━━━━━━━━━━━━\u001b[0m\u001b[37m\u001b[0m \u001b[1m31s\u001b[0m 40ms/step - auc: 0.7684 - loss: 0.2516 - val_auc: 0.7177 - val_loss: 0.2633 - learning_rate: 9.1431e-04\n",
            "Epoch 12/16\n",
            "\u001b[1m773/773\u001b[0m \u001b[32m━━━━━━━━━━━━━━━━━━━━\u001b[0m\u001b[37m\u001b[0m \u001b[1m31s\u001b[0m 41ms/step - auc: 0.7701 - loss: 0.2509 - val_auc: 0.7113 - val_loss: 0.2713 - learning_rate: 9.0689e-04\n",
            "Epoch 13/16\n",
            "\u001b[1m773/773\u001b[0m \u001b[32m━━━━━━━━━━━━━━━━━━━━\u001b[0m\u001b[37m\u001b[0m \u001b[1m31s\u001b[0m 40ms/step - auc: 0.7726 - loss: 0.2503 - val_auc: 0.7107 - val_loss: 0.2696 - learning_rate: 8.9954e-04\n",
            "Epoch 14/16\n",
            "\u001b[1m773/773\u001b[0m \u001b[32m━━━━━━━━━━━━━━━━━━━━\u001b[0m\u001b[37m\u001b[0m \u001b[1m31s\u001b[0m 40ms/step - auc: 0.7744 - loss: 0.2496 - val_auc: 0.7020 - val_loss: 0.2805 - learning_rate: 8.9224e-04\n",
            "Epoch 15/16\n",
            "\u001b[1m773/773\u001b[0m \u001b[32m━━━━━━━━━━━━━━━━━━━━\u001b[0m\u001b[37m\u001b[0m \u001b[1m31s\u001b[0m 40ms/step - auc: 0.7783 - loss: 0.2485 - val_auc: 0.7038 - val_loss: 0.2774 - learning_rate: 8.8500e-04\n",
            "Epoch 16/16\n",
            "\u001b[1m773/773\u001b[0m \u001b[32m━━━━━━━━━━━━━━━━━━━━\u001b[0m\u001b[37m\u001b[0m \u001b[1m31s\u001b[0m 41ms/step - auc: 0.7805 - loss: 0.2478 - val_auc: 0.7208 - val_loss: 0.2679 - learning_rate: 8.7782e-04\n"
          ]
        },
        {
          "output_type": "execute_result",
          "data": {
            "text/plain": [
              "<keras.src.callbacks.history.History at 0x7820eb3c0130>"
            ]
          },
          "metadata": {},
          "execution_count": 227
        }
      ],
      "source": [
        "\n",
        "\"\"\"\n",
        "from tensorflow.keras.callbacks import ReduceLROnPlateau\n",
        "\n",
        "# Create a model instance\n",
        "model = NewsRecommendationModel(\n",
        "                                user_histories_tensor=train_user_histories_tensor,\n",
        "                                embedding_dim=embedding_dim,\n",
        "                                num_heads=num_heads,\n",
        "                                attention_dim=attention_dim\n",
        "                              )\n",
        "\n",
        "# Define the loss function\n",
        "loss_fn = tf.keras.losses.BinaryCrossentropy()\n",
        "\n",
        "# Define the scheduler (to dynamically set the optimal learning rate)\n",
        "lr_schedule = tf.keras.optimizers.schedules.ExponentialDecay(\n",
        "    initial_learning_rate=initial_learning_rate,\n",
        "    decay_steps=10000,\n",
        "    decay_rate=0.9)\n",
        "\n",
        "# Create optimizer using above scheduler\n",
        "optimizer = tf.keras.optimizers.Adam(learning_rate=lr_schedule)\n",
        "\n",
        "# Define the callback (reduces the learning rate when the validation loss stops to decrease)\n",
        "reduce_lr = ReduceLROnPlateau(monitor='val_loss', factor=0.2,\n",
        "                              patience=5, min_lr=0.001)\n",
        "\n",
        "# Compile the model\n",
        "model.compile(optimizer=optimizer,  # Use the optimizer instance\n",
        "              loss=loss_fn,\n",
        "              metrics=[tf.keras.metrics.AUC(name=\"auc\")])\n",
        "\n",
        "# Train the model\n",
        "model.fit(\n",
        "    train_dataset,\n",
        "    validation_data=validation_dataset,\n",
        "    epochs=epochs_num,\n",
        "    callbacks=[reduce_lr]\n",
        ")\n",
        "\"\"\""
      ]
    },
    {
      "cell_type": "code",
      "source": [
        "import pandas as pd\n",
        "import numpy as np\n",
        "\n",
        "# Określ rozmiar chunków, np. 100_000 wierszy na część (dostosuj do dostępnej pamięci)\n",
        "chunk_size = 25_000\n",
        "num_chunks = len(df_train_behaviors) // chunk_size + int(len(df_train_behaviors) % chunk_size != 0)\n",
        "\n",
        "for i in range(num_chunks):\n",
        "    start_idx = i * chunk_size\n",
        "    end_idx = min((i+1)*chunk_size, len(df_train_behaviors))\n",
        "\n",
        "    # Wytnij fragment z behaviors\n",
        "    df_beh_chunk = df_train_behaviors.iloc[start_idx:end_idx].copy()\n",
        "\n",
        "    # Aby poprawnie wyciąć fragment z history, musisz wybrać wiersze dla użytkowników występujących w df_beh_chunk\n",
        "    # Jeżeli 'user_id' jest kluczem łączącym z history, możesz go użyć:\n",
        "    user_ids_in_chunk = df_beh_chunk['user_id'].unique()\n",
        "    df_hist_chunk = df_train_history[df_train_history['user_id'].isin(user_ids_in_chunk)].copy()\n",
        "    # Podobnie jeśli potrzebne są artykuły, to zwykle articles jest pełne i to jest metadane,\n",
        "    # więc w wielu przypadkach nie dzielimy articles, a używamy pełnego zbioru artykułów.\n",
        "    # Ale jeśli chcesz też dzielić articles, to wybierz np. artykuły pojawiające się w tym chunku:\n",
        "    # article_ids_in_chunk = np.unique(np.concatenate(df_beh_chunk['article_ids_inview'].values))\n",
        "    # df_articles_chunk = df_full_articles[df_full_articles['article_id'].isin(article_ids_in_chunk)].copy()\n",
        "    # Jeśli artykuły są globalne i potrzebne w całości, pomiń ten krok i zawsze używaj pełnych articles.\n",
        "\n",
        "    # Zapisz część do parquet\n",
        "    df_beh_chunk.to_parquet(f'/content/drive/MyDrive/deep_learning_project/data/train/train_behaviors_part{i+1}.parquet')\n",
        "    df_hist_chunk.to_parquet(f'/content/drive/MyDrive/deep_learning_project/data/train/train_history_part{i+1}.parquet')\n",
        "\n",
        "    # Jeśli zdecydowałeś się też dzielić articles:\n",
        "    # df_articles_chunk.to_parquet(f'/content/drive/MyDrive/deep_learning_project/data/train/train_articles_part{i+1}.parquet')\n",
        "\n",
        "# Po tym etapie masz wiele części train_behaviors_partX.parquet i train_history_partX.parquet.\n",
        "# Możesz do nich odwołać się w liście train_parts."
      ],
      "metadata": {
        "id": "-Ua8T7mzY5oL"
      },
      "execution_count": null,
      "outputs": []
    },
    {
      "cell_type": "code",
      "source": [
        "import pickle\n",
        "import numpy as np\n",
        "import pandas as pd\n",
        "import tensorflow as tf\n",
        "from tensorflow.keras.callbacks import ReduceLROnPlateau\n",
        "import os\n",
        "\n",
        "# Tworzymy model raz\n",
        "from tensorflow.keras.optimizers.schedules import ExponentialDecay\n",
        "loss_fn = tf.keras.losses.BinaryCrossentropy()\n",
        "lr_schedule = ExponentialDecay(\n",
        "    initial_learning_rate=initial_learning_rate,\n",
        "    decay_steps=10000,\n",
        "    decay_rate=0.9\n",
        ")\n",
        "optimizer = tf.keras.optimizers.Adam(learning_rate=lr_schedule)\n",
        "\n",
        "# Na tym etapie nie mamy jeszcze user_histories_tensor, bo weźmiemy go z pierwszej partii danych\n",
        "# Zrobimy to w pętli, inicjalizując model dopiero po wczytaniu pierwszego chunka\n",
        "\n",
        "reduce_lr = ReduceLROnPlateau(monitor='val_loss', factor=0.2, patience=5, min_lr=0.001)\n",
        "\n",
        "# Zakładamy że mamy listę plików z podzielonymi danymi treningowymi i walidacyjnymi:\n",
        "train_parts = [\n",
        "    '/content/drive/MyDrive/deep_learning_project/data/train/train_behaviors_part1.parquet',\n",
        "    '/content/drive/MyDrive/deep_learning_project/data/train/train_behaviors_part2.parquet',\n",
        "    '/content/drive/MyDrive/deep_learning_project/data/train/train_behaviors_part3.parquet',\n",
        "    '/content/drive/MyDrive/deep_learning_project/data/train/train_behaviors_part4.parquet',\n",
        "    '/content/drive/MyDrive/deep_learning_project/data/train/train_behaviors_part5.parquet',\n",
        "    '/content/drive/MyDrive/deep_learning_project/data/train/train_behaviors_part6.parquet',\n",
        "    '/content/drive/MyDrive/deep_learning_project/data/train/train_behaviors_part7.parquet',\n",
        "    '/content/drive/MyDrive/deep_learning_project/data/train/train_behaviors_part8.parquet',\n",
        "    '/content/drive/MyDrive/deep_learning_project/data/train/train_behaviors_part9.parquet',\n",
        "    '/content/drive/MyDrive/deep_learning_project/data/train/train_behaviors_part10.parquet',\n",
        "]\n",
        "\n",
        "valid_behaviors_path = '/content/drive/MyDrive/deep_learning_project/data/valid_full_preprocessed.parquet'\n",
        "valid_history_path = '/content/drive/MyDrive/deep_learning_project/data/validation/history.parquet'\n",
        "valid_articles_path = '/content/drive/MyDrive/deep_learning_project/data/validation/articles.parquet'\n",
        "\n",
        "# Najpierw trenujemy na pierwszej części aby zainicjalizować model\n",
        "df_train_behaviors_part1 = pd.read_parquet(train_parts[0])\n",
        "df_train_history_part1 = pd.read_parquet(train_parts[0].replace('behaviors','history'))\n",
        "df_train_articles = pd.read_parquet('/content/drive/MyDrive/deep_learning_project/data/train/articles.parquet')\n",
        "# zakładam że articles nie jest dzielone, bo to metadane wszystkich artykułów\n",
        "\n",
        "train_dataset_part1, train_user_histories_tensor_part1 = prepare_data(\n",
        "    df_train_history_part1, df_train_behaviors_part1, df_train_articles,\n",
        "    article_to_index, embedding_matrix, max_history_length, user_id_to_index, is_training=True\n",
        ")\n",
        "\n",
        "# Zainicjalizuj model\n",
        "model = NewsRecommendationModel(\n",
        "    user_histories_tensor=train_user_histories_tensor_part1,\n",
        "    embedding_dim=embedding_dim,\n",
        "    num_heads=num_heads,\n",
        "    attention_dim=attention_dim\n",
        ")\n",
        "model.compile(optimizer=optimizer, loss=loss_fn, metrics=[tf.keras.metrics.AUC(name=\"auc\")])\n",
        "\n",
        "# Trenuj na pierwszej części\n",
        "print(\"Training on part: 1\")\n",
        "model.fit(train_dataset_part1, epochs=10)  # Możesz ustawić epochs inaczej, albo loopować.\n",
        "\n",
        "# Dla kolejnych części aktualizujemy user_histories_tensor i kontynuujemy trening\n",
        "i=1\n",
        "for part_path in train_parts[1:]:\n",
        "    i+=1\n",
        "    df_train_behaviors_part = pd.read_parquet(part_path)\n",
        "    df_train_history_part = pd.read_parquet(part_path.replace('behaviors','history'))\n",
        "\n",
        "    train_dataset_part, train_user_histories_tensor_part = prepare_data(\n",
        "        df_train_history_part, df_train_behaviors_part, df_train_articles,\n",
        "        article_to_index, embedding_matrix, max_history_length, user_id_to_index, is_training=True\n",
        "    )\n",
        "\n",
        "    # Zaktualizuj user_histories_tensor w modelu\n",
        "    model.user_histories_tensor = train_user_histories_tensor_part\n",
        "\n",
        "    print(f\"Training on part: {i}\")\n",
        "    model.fit(train_dataset_part, epochs=10)  # kontynuujesz trening"
      ],
      "metadata": {
        "colab": {
          "base_uri": "https://localhost:8080/",
          "height": 373
        },
        "id": "bIYHqV63YMmt",
        "outputId": "be780f1b-e7e3-432d-bd10-95dd78d46c4f"
      },
      "execution_count": null,
      "outputs": [
        {
          "output_type": "error",
          "ename": "InternalError",
          "evalue": "Failed copying input tensor from /job:localhost/replica:0/task:0/device:CPU:0 to /job:localhost/replica:0/task:0/device:GPU:0 in order to run _EagerConst: Dst tensor is not initialized.",
          "traceback": [
            "\u001b[0;31m---------------------------------------------------------------------------\u001b[0m",
            "\u001b[0;31mInternalError\u001b[0m                             Traceback (most recent call last)",
            "\u001b[0;32m<ipython-input-127-e2183a016a15>\u001b[0m in \u001b[0;36m<cell line: 47>\u001b[0;34m()\u001b[0m\n\u001b[1;32m     45\u001b[0m \u001b[0;31m# zakładam że articles nie jest dzielone, bo to metadane wszystkich artykułów\u001b[0m\u001b[0;34m\u001b[0m\u001b[0;34m\u001b[0m\u001b[0m\n\u001b[1;32m     46\u001b[0m \u001b[0;34m\u001b[0m\u001b[0m\n\u001b[0;32m---> 47\u001b[0;31m train_dataset_part1, train_user_histories_tensor_part1 = prepare_data(\n\u001b[0m\u001b[1;32m     48\u001b[0m     \u001b[0mdf_train_history_part1\u001b[0m\u001b[0;34m,\u001b[0m \u001b[0mdf_train_behaviors_part1\u001b[0m\u001b[0;34m,\u001b[0m \u001b[0mdf_train_articles\u001b[0m\u001b[0;34m,\u001b[0m\u001b[0;34m\u001b[0m\u001b[0;34m\u001b[0m\u001b[0m\n\u001b[1;32m     49\u001b[0m     \u001b[0marticle_to_index\u001b[0m\u001b[0;34m,\u001b[0m \u001b[0membedding_matrix\u001b[0m\u001b[0;34m,\u001b[0m \u001b[0mmax_history_length\u001b[0m\u001b[0;34m,\u001b[0m \u001b[0muser_id_to_index\u001b[0m\u001b[0;34m,\u001b[0m \u001b[0mis_training\u001b[0m\u001b[0;34m=\u001b[0m\u001b[0;32mTrue\u001b[0m\u001b[0;34m\u001b[0m\u001b[0;34m\u001b[0m\u001b[0m\n",
            "\u001b[0;32m<ipython-input-117-4afb4626cf8f>\u001b[0m in \u001b[0;36mprepare_data\u001b[0;34m(df_history, df_behaviors, df_articles, article_to_index, embedding_matrix, max_history_length, user_id_to_index, is_training)\u001b[0m\n\u001b[1;32m     48\u001b[0m \u001b[0;34m\u001b[0m\u001b[0m\n\u001b[1;32m     49\u001b[0m     \u001b[0;31m# Create dataset\u001b[0m\u001b[0;34m\u001b[0m\u001b[0;34m\u001b[0m\u001b[0m\n\u001b[0;32m---> 50\u001b[0;31m     \u001b[0mdataset\u001b[0m \u001b[0;34m=\u001b[0m \u001b[0mcreate_tf_dataset\u001b[0m\u001b[0;34m(\u001b[0m\u001b[0mdf_labeled_sessions\u001b[0m\u001b[0;34m,\u001b[0m \u001b[0muser_id_to_index\u001b[0m\u001b[0;34m,\u001b[0m \u001b[0mbatch_size\u001b[0m\u001b[0;34m=\u001b[0m\u001b[0;36m32\u001b[0m\u001b[0;34m)\u001b[0m\u001b[0;34m\u001b[0m\u001b[0;34m\u001b[0m\u001b[0m\n\u001b[0m\u001b[1;32m     51\u001b[0m \u001b[0;34m\u001b[0m\u001b[0m\n\u001b[1;32m     52\u001b[0m     \u001b[0;32mreturn\u001b[0m \u001b[0mdataset\u001b[0m\u001b[0;34m,\u001b[0m \u001b[0muser_histories_tensor\u001b[0m\u001b[0;34m\u001b[0m\u001b[0;34m\u001b[0m\u001b[0m\n",
            "\u001b[0;32m<ipython-input-105-4df4918d5d9e>\u001b[0m in \u001b[0;36mcreate_tf_dataset\u001b[0;34m(df_labeled_sessions, user_id_to_index, batch_size)\u001b[0m\n\u001b[1;32m     15\u001b[0m     \"\"\"\n\u001b[1;32m     16\u001b[0m \u001b[0;34m\u001b[0m\u001b[0m\n\u001b[0;32m---> 17\u001b[0;31m     dataset = tf.data.Dataset.from_tensor_slices(\n\u001b[0m\u001b[1;32m     18\u001b[0m         \u001b[0;34m(\u001b[0m\u001b[0;34m(\u001b[0m\u001b[0muser_indices\u001b[0m\u001b[0;34m,\u001b[0m \u001b[0marticle_embeddings\u001b[0m\u001b[0;34m,\u001b[0m \u001b[0min_session_embeddings\u001b[0m\u001b[0;34m,\u001b[0m \u001b[0mpopularity_embeddings\u001b[0m\u001b[0;34m)\u001b[0m\u001b[0;34m,\u001b[0m \u001b[0mlabels\u001b[0m\u001b[0;34m)\u001b[0m\u001b[0;34m\u001b[0m\u001b[0;34m\u001b[0m\u001b[0m\n\u001b[1;32m     19\u001b[0m     ).batch(batch_size)\n",
            "\u001b[0;32m/usr/local/lib/python3.10/dist-packages/tensorflow/python/data/ops/dataset_ops.py\u001b[0m in \u001b[0;36mfrom_tensor_slices\u001b[0;34m(tensors, name)\u001b[0m\n\u001b[1;32m    824\u001b[0m     \u001b[0;31m# pylint: disable=g-import-not-at-top,protected-access\u001b[0m\u001b[0;34m\u001b[0m\u001b[0;34m\u001b[0m\u001b[0m\n\u001b[1;32m    825\u001b[0m     \u001b[0;32mfrom\u001b[0m \u001b[0mtensorflow\u001b[0m\u001b[0;34m.\u001b[0m\u001b[0mpython\u001b[0m\u001b[0;34m.\u001b[0m\u001b[0mdata\u001b[0m\u001b[0;34m.\u001b[0m\u001b[0mops\u001b[0m \u001b[0;32mimport\u001b[0m \u001b[0mfrom_tensor_slices_op\u001b[0m\u001b[0;34m\u001b[0m\u001b[0;34m\u001b[0m\u001b[0m\n\u001b[0;32m--> 826\u001b[0;31m     \u001b[0;32mreturn\u001b[0m \u001b[0mfrom_tensor_slices_op\u001b[0m\u001b[0;34m.\u001b[0m\u001b[0m_from_tensor_slices\u001b[0m\u001b[0;34m(\u001b[0m\u001b[0mtensors\u001b[0m\u001b[0;34m,\u001b[0m \u001b[0mname\u001b[0m\u001b[0;34m)\u001b[0m\u001b[0;34m\u001b[0m\u001b[0;34m\u001b[0m\u001b[0m\n\u001b[0m\u001b[1;32m    827\u001b[0m     \u001b[0;31m# pylint: enable=g-import-not-at-top,protected-access\u001b[0m\u001b[0;34m\u001b[0m\u001b[0;34m\u001b[0m\u001b[0m\n\u001b[1;32m    828\u001b[0m \u001b[0;34m\u001b[0m\u001b[0m\n",
            "\u001b[0;32m/usr/local/lib/python3.10/dist-packages/tensorflow/python/data/ops/from_tensor_slices_op.py\u001b[0m in \u001b[0;36m_from_tensor_slices\u001b[0;34m(tensors, name)\u001b[0m\n\u001b[1;32m     23\u001b[0m \u001b[0;34m\u001b[0m\u001b[0m\n\u001b[1;32m     24\u001b[0m \u001b[0;32mdef\u001b[0m \u001b[0m_from_tensor_slices\u001b[0m\u001b[0;34m(\u001b[0m\u001b[0mtensors\u001b[0m\u001b[0;34m,\u001b[0m \u001b[0mname\u001b[0m\u001b[0;34m=\u001b[0m\u001b[0;32mNone\u001b[0m\u001b[0;34m)\u001b[0m\u001b[0;34m:\u001b[0m\u001b[0;34m\u001b[0m\u001b[0;34m\u001b[0m\u001b[0m\n\u001b[0;32m---> 25\u001b[0;31m   \u001b[0;32mreturn\u001b[0m \u001b[0m_TensorSliceDataset\u001b[0m\u001b[0;34m(\u001b[0m\u001b[0mtensors\u001b[0m\u001b[0;34m,\u001b[0m \u001b[0mname\u001b[0m\u001b[0;34m=\u001b[0m\u001b[0mname\u001b[0m\u001b[0;34m)\u001b[0m\u001b[0;34m\u001b[0m\u001b[0;34m\u001b[0m\u001b[0m\n\u001b[0m\u001b[1;32m     26\u001b[0m \u001b[0;34m\u001b[0m\u001b[0m\n\u001b[1;32m     27\u001b[0m \u001b[0;34m\u001b[0m\u001b[0m\n",
            "\u001b[0;32m/usr/local/lib/python3.10/dist-packages/tensorflow/python/data/ops/from_tensor_slices_op.py\u001b[0m in \u001b[0;36m__init__\u001b[0;34m(self, element, is_files, name)\u001b[0m\n\u001b[1;32m     31\u001b[0m   \u001b[0;32mdef\u001b[0m \u001b[0m__init__\u001b[0m\u001b[0;34m(\u001b[0m\u001b[0mself\u001b[0m\u001b[0;34m,\u001b[0m \u001b[0melement\u001b[0m\u001b[0;34m,\u001b[0m \u001b[0mis_files\u001b[0m\u001b[0;34m=\u001b[0m\u001b[0;32mFalse\u001b[0m\u001b[0;34m,\u001b[0m \u001b[0mname\u001b[0m\u001b[0;34m=\u001b[0m\u001b[0;32mNone\u001b[0m\u001b[0;34m)\u001b[0m\u001b[0;34m:\u001b[0m\u001b[0;34m\u001b[0m\u001b[0;34m\u001b[0m\u001b[0m\n\u001b[1;32m     32\u001b[0m     \u001b[0;34m\"\"\"See `Dataset.from_tensor_slices` for details.\"\"\"\u001b[0m\u001b[0;34m\u001b[0m\u001b[0;34m\u001b[0m\u001b[0m\n\u001b[0;32m---> 33\u001b[0;31m     \u001b[0melement\u001b[0m \u001b[0;34m=\u001b[0m \u001b[0mstructure\u001b[0m\u001b[0;34m.\u001b[0m\u001b[0mnormalize_element\u001b[0m\u001b[0;34m(\u001b[0m\u001b[0melement\u001b[0m\u001b[0;34m)\u001b[0m\u001b[0;34m\u001b[0m\u001b[0;34m\u001b[0m\u001b[0m\n\u001b[0m\u001b[1;32m     34\u001b[0m     \u001b[0mbatched_spec\u001b[0m \u001b[0;34m=\u001b[0m \u001b[0mstructure\u001b[0m\u001b[0;34m.\u001b[0m\u001b[0mtype_spec_from_value\u001b[0m\u001b[0;34m(\u001b[0m\u001b[0melement\u001b[0m\u001b[0;34m)\u001b[0m\u001b[0;34m\u001b[0m\u001b[0;34m\u001b[0m\u001b[0m\n\u001b[1;32m     35\u001b[0m     \u001b[0mself\u001b[0m\u001b[0;34m.\u001b[0m\u001b[0m_tensors\u001b[0m \u001b[0;34m=\u001b[0m \u001b[0mstructure\u001b[0m\u001b[0;34m.\u001b[0m\u001b[0mto_batched_tensor_list\u001b[0m\u001b[0;34m(\u001b[0m\u001b[0mbatched_spec\u001b[0m\u001b[0;34m,\u001b[0m \u001b[0melement\u001b[0m\u001b[0;34m)\u001b[0m\u001b[0;34m\u001b[0m\u001b[0;34m\u001b[0m\u001b[0m\n",
            "\u001b[0;32m/usr/local/lib/python3.10/dist-packages/tensorflow/python/data/util/structure.py\u001b[0m in \u001b[0;36mnormalize_element\u001b[0;34m(element, element_signature)\u001b[0m\n\u001b[1;32m    132\u001b[0m           \u001b[0mdtype\u001b[0m \u001b[0;34m=\u001b[0m \u001b[0mgetattr\u001b[0m\u001b[0;34m(\u001b[0m\u001b[0mspec\u001b[0m\u001b[0;34m,\u001b[0m \u001b[0;34m\"dtype\"\u001b[0m\u001b[0;34m,\u001b[0m \u001b[0;32mNone\u001b[0m\u001b[0;34m)\u001b[0m\u001b[0;34m\u001b[0m\u001b[0;34m\u001b[0m\u001b[0m\n\u001b[1;32m    133\u001b[0m           normalized_components.append(\n\u001b[0;32m--> 134\u001b[0;31m               ops.convert_to_tensor(t, name=\"component_%d\" % i, dtype=dtype))\n\u001b[0m\u001b[1;32m    135\u001b[0m   \u001b[0;32mreturn\u001b[0m \u001b[0mnest\u001b[0m\u001b[0;34m.\u001b[0m\u001b[0mpack_sequence_as\u001b[0m\u001b[0;34m(\u001b[0m\u001b[0mpack_as\u001b[0m\u001b[0;34m,\u001b[0m \u001b[0mnormalized_components\u001b[0m\u001b[0;34m)\u001b[0m\u001b[0;34m\u001b[0m\u001b[0;34m\u001b[0m\u001b[0m\n\u001b[1;32m    136\u001b[0m \u001b[0;34m\u001b[0m\u001b[0m\n",
            "\u001b[0;32m/usr/local/lib/python3.10/dist-packages/tensorflow/python/profiler/trace.py\u001b[0m in \u001b[0;36mwrapped\u001b[0;34m(*args, **kwargs)\u001b[0m\n\u001b[1;32m    181\u001b[0m         \u001b[0;32mwith\u001b[0m \u001b[0mTrace\u001b[0m\u001b[0;34m(\u001b[0m\u001b[0mtrace_name\u001b[0m\u001b[0;34m,\u001b[0m \u001b[0;34m**\u001b[0m\u001b[0mtrace_kwargs\u001b[0m\u001b[0;34m)\u001b[0m\u001b[0;34m:\u001b[0m\u001b[0;34m\u001b[0m\u001b[0;34m\u001b[0m\u001b[0m\n\u001b[1;32m    182\u001b[0m           \u001b[0;32mreturn\u001b[0m \u001b[0mfunc\u001b[0m\u001b[0;34m(\u001b[0m\u001b[0;34m*\u001b[0m\u001b[0margs\u001b[0m\u001b[0;34m,\u001b[0m \u001b[0;34m**\u001b[0m\u001b[0mkwargs\u001b[0m\u001b[0;34m)\u001b[0m\u001b[0;34m\u001b[0m\u001b[0;34m\u001b[0m\u001b[0m\n\u001b[0;32m--> 183\u001b[0;31m       \u001b[0;32mreturn\u001b[0m \u001b[0mfunc\u001b[0m\u001b[0;34m(\u001b[0m\u001b[0;34m*\u001b[0m\u001b[0margs\u001b[0m\u001b[0;34m,\u001b[0m \u001b[0;34m**\u001b[0m\u001b[0mkwargs\u001b[0m\u001b[0;34m)\u001b[0m\u001b[0;34m\u001b[0m\u001b[0;34m\u001b[0m\u001b[0m\n\u001b[0m\u001b[1;32m    184\u001b[0m \u001b[0;34m\u001b[0m\u001b[0m\n\u001b[1;32m    185\u001b[0m     \u001b[0;32mreturn\u001b[0m \u001b[0mwrapped\u001b[0m\u001b[0;34m\u001b[0m\u001b[0;34m\u001b[0m\u001b[0m\n",
            "\u001b[0;32m/usr/local/lib/python3.10/dist-packages/tensorflow/python/framework/ops.py\u001b[0m in \u001b[0;36mconvert_to_tensor\u001b[0;34m(value, dtype, name, as_ref, preferred_dtype, dtype_hint, ctx, accepted_result_types)\u001b[0m\n\u001b[1;32m    711\u001b[0m   \u001b[0;31m# TODO(b/142518781): Fix all call-sites and remove redundant arg\u001b[0m\u001b[0;34m\u001b[0m\u001b[0;34m\u001b[0m\u001b[0m\n\u001b[1;32m    712\u001b[0m   \u001b[0mpreferred_dtype\u001b[0m \u001b[0;34m=\u001b[0m \u001b[0mpreferred_dtype\u001b[0m \u001b[0;32mor\u001b[0m \u001b[0mdtype_hint\u001b[0m\u001b[0;34m\u001b[0m\u001b[0;34m\u001b[0m\u001b[0m\n\u001b[0;32m--> 713\u001b[0;31m   return tensor_conversion_registry.convert(\n\u001b[0m\u001b[1;32m    714\u001b[0m       \u001b[0mvalue\u001b[0m\u001b[0;34m,\u001b[0m \u001b[0mdtype\u001b[0m\u001b[0;34m,\u001b[0m \u001b[0mname\u001b[0m\u001b[0;34m,\u001b[0m \u001b[0mas_ref\u001b[0m\u001b[0;34m,\u001b[0m \u001b[0mpreferred_dtype\u001b[0m\u001b[0;34m,\u001b[0m \u001b[0maccepted_result_types\u001b[0m\u001b[0;34m\u001b[0m\u001b[0;34m\u001b[0m\u001b[0m\n\u001b[1;32m    715\u001b[0m   )\n",
            "\u001b[0;32m/usr/local/lib/python3.10/dist-packages/tensorflow/python/framework/tensor_conversion_registry.py\u001b[0m in \u001b[0;36mconvert\u001b[0;34m(value, dtype, name, as_ref, preferred_dtype, accepted_result_types)\u001b[0m\n\u001b[1;32m    232\u001b[0m \u001b[0;34m\u001b[0m\u001b[0m\n\u001b[1;32m    233\u001b[0m     \u001b[0;32mif\u001b[0m \u001b[0mret\u001b[0m \u001b[0;32mis\u001b[0m \u001b[0;32mNone\u001b[0m\u001b[0;34m:\u001b[0m\u001b[0;34m\u001b[0m\u001b[0;34m\u001b[0m\u001b[0m\n\u001b[0;32m--> 234\u001b[0;31m       \u001b[0mret\u001b[0m \u001b[0;34m=\u001b[0m \u001b[0mconversion_func\u001b[0m\u001b[0;34m(\u001b[0m\u001b[0mvalue\u001b[0m\u001b[0;34m,\u001b[0m \u001b[0mdtype\u001b[0m\u001b[0;34m=\u001b[0m\u001b[0mdtype\u001b[0m\u001b[0;34m,\u001b[0m \u001b[0mname\u001b[0m\u001b[0;34m=\u001b[0m\u001b[0mname\u001b[0m\u001b[0;34m,\u001b[0m \u001b[0mas_ref\u001b[0m\u001b[0;34m=\u001b[0m\u001b[0mas_ref\u001b[0m\u001b[0;34m)\u001b[0m\u001b[0;34m\u001b[0m\u001b[0;34m\u001b[0m\u001b[0m\n\u001b[0m\u001b[1;32m    235\u001b[0m \u001b[0;34m\u001b[0m\u001b[0m\n\u001b[1;32m    236\u001b[0m     \u001b[0;32mif\u001b[0m \u001b[0mret\u001b[0m \u001b[0;32mis\u001b[0m \u001b[0mNotImplemented\u001b[0m\u001b[0;34m:\u001b[0m\u001b[0;34m\u001b[0m\u001b[0;34m\u001b[0m\u001b[0m\n",
            "\u001b[0;32m/usr/local/lib/python3.10/dist-packages/tensorflow/python/framework/constant_tensor_conversion.py\u001b[0m in \u001b[0;36m_constant_tensor_conversion_function\u001b[0;34m(v, dtype, name, as_ref)\u001b[0m\n\u001b[1;32m     27\u001b[0m \u001b[0;34m\u001b[0m\u001b[0m\n\u001b[1;32m     28\u001b[0m   \u001b[0m_\u001b[0m \u001b[0;34m=\u001b[0m \u001b[0mas_ref\u001b[0m\u001b[0;34m\u001b[0m\u001b[0;34m\u001b[0m\u001b[0m\n\u001b[0;32m---> 29\u001b[0;31m   \u001b[0;32mreturn\u001b[0m \u001b[0mconstant_op\u001b[0m\u001b[0;34m.\u001b[0m\u001b[0mconstant\u001b[0m\u001b[0;34m(\u001b[0m\u001b[0mv\u001b[0m\u001b[0;34m,\u001b[0m \u001b[0mdtype\u001b[0m\u001b[0;34m=\u001b[0m\u001b[0mdtype\u001b[0m\u001b[0;34m,\u001b[0m \u001b[0mname\u001b[0m\u001b[0;34m=\u001b[0m\u001b[0mname\u001b[0m\u001b[0;34m)\u001b[0m\u001b[0;34m\u001b[0m\u001b[0;34m\u001b[0m\u001b[0m\n\u001b[0m\u001b[1;32m     30\u001b[0m \u001b[0;34m\u001b[0m\u001b[0m\n\u001b[1;32m     31\u001b[0m \u001b[0;34m\u001b[0m\u001b[0m\n",
            "\u001b[0;32m/usr/local/lib/python3.10/dist-packages/tensorflow/python/ops/weak_tensor_ops.py\u001b[0m in \u001b[0;36mwrapper\u001b[0;34m(*args, **kwargs)\u001b[0m\n\u001b[1;32m    140\u001b[0m   \u001b[0;32mdef\u001b[0m \u001b[0mwrapper\u001b[0m\u001b[0;34m(\u001b[0m\u001b[0;34m*\u001b[0m\u001b[0margs\u001b[0m\u001b[0;34m,\u001b[0m \u001b[0;34m**\u001b[0m\u001b[0mkwargs\u001b[0m\u001b[0;34m)\u001b[0m\u001b[0;34m:\u001b[0m\u001b[0;34m\u001b[0m\u001b[0;34m\u001b[0m\u001b[0m\n\u001b[1;32m    141\u001b[0m     \u001b[0;32mif\u001b[0m \u001b[0;32mnot\u001b[0m \u001b[0mops\u001b[0m\u001b[0;34m.\u001b[0m\u001b[0mis_auto_dtype_conversion_enabled\u001b[0m\u001b[0;34m(\u001b[0m\u001b[0;34m)\u001b[0m\u001b[0;34m:\u001b[0m\u001b[0;34m\u001b[0m\u001b[0;34m\u001b[0m\u001b[0m\n\u001b[0;32m--> 142\u001b[0;31m       \u001b[0;32mreturn\u001b[0m \u001b[0mop\u001b[0m\u001b[0;34m(\u001b[0m\u001b[0;34m*\u001b[0m\u001b[0margs\u001b[0m\u001b[0;34m,\u001b[0m \u001b[0;34m**\u001b[0m\u001b[0mkwargs\u001b[0m\u001b[0;34m)\u001b[0m\u001b[0;34m\u001b[0m\u001b[0;34m\u001b[0m\u001b[0m\n\u001b[0m\u001b[1;32m    143\u001b[0m     \u001b[0mbound_arguments\u001b[0m \u001b[0;34m=\u001b[0m \u001b[0msignature\u001b[0m\u001b[0;34m.\u001b[0m\u001b[0mbind\u001b[0m\u001b[0;34m(\u001b[0m\u001b[0;34m*\u001b[0m\u001b[0margs\u001b[0m\u001b[0;34m,\u001b[0m \u001b[0;34m**\u001b[0m\u001b[0mkwargs\u001b[0m\u001b[0;34m)\u001b[0m\u001b[0;34m\u001b[0m\u001b[0;34m\u001b[0m\u001b[0m\n\u001b[1;32m    144\u001b[0m     \u001b[0mbound_arguments\u001b[0m\u001b[0;34m.\u001b[0m\u001b[0mapply_defaults\u001b[0m\u001b[0;34m(\u001b[0m\u001b[0;34m)\u001b[0m\u001b[0;34m\u001b[0m\u001b[0;34m\u001b[0m\u001b[0m\n",
            "\u001b[0;32m/usr/local/lib/python3.10/dist-packages/tensorflow/python/framework/constant_op.py\u001b[0m in \u001b[0;36mconstant\u001b[0;34m(value, dtype, shape, name)\u001b[0m\n\u001b[1;32m    274\u001b[0m     \u001b[0mValueError\u001b[0m\u001b[0;34m:\u001b[0m \u001b[0;32mif\u001b[0m \u001b[0mcalled\u001b[0m \u001b[0mon\u001b[0m \u001b[0ma\u001b[0m \u001b[0msymbolic\u001b[0m \u001b[0mtensor\u001b[0m\u001b[0;34m.\u001b[0m\u001b[0;34m\u001b[0m\u001b[0;34m\u001b[0m\u001b[0m\n\u001b[1;32m    275\u001b[0m   \"\"\"\n\u001b[0;32m--> 276\u001b[0;31m   return _constant_impl(value, dtype, shape, name, verify_shape=False,\n\u001b[0m\u001b[1;32m    277\u001b[0m                         allow_broadcast=True)\n\u001b[1;32m    278\u001b[0m \u001b[0;34m\u001b[0m\u001b[0m\n",
            "\u001b[0;32m/usr/local/lib/python3.10/dist-packages/tensorflow/python/framework/constant_op.py\u001b[0m in \u001b[0;36m_constant_impl\u001b[0;34m(value, dtype, shape, name, verify_shape, allow_broadcast)\u001b[0m\n\u001b[1;32m    287\u001b[0m       \u001b[0;32mwith\u001b[0m \u001b[0mtrace\u001b[0m\u001b[0;34m.\u001b[0m\u001b[0mTrace\u001b[0m\u001b[0;34m(\u001b[0m\u001b[0;34m\"tf.constant\"\u001b[0m\u001b[0;34m)\u001b[0m\u001b[0;34m:\u001b[0m\u001b[0;34m\u001b[0m\u001b[0;34m\u001b[0m\u001b[0m\n\u001b[1;32m    288\u001b[0m         \u001b[0;32mreturn\u001b[0m \u001b[0m_constant_eager_impl\u001b[0m\u001b[0;34m(\u001b[0m\u001b[0mctx\u001b[0m\u001b[0;34m,\u001b[0m \u001b[0mvalue\u001b[0m\u001b[0;34m,\u001b[0m \u001b[0mdtype\u001b[0m\u001b[0;34m,\u001b[0m \u001b[0mshape\u001b[0m\u001b[0;34m,\u001b[0m \u001b[0mverify_shape\u001b[0m\u001b[0;34m)\u001b[0m\u001b[0;34m\u001b[0m\u001b[0;34m\u001b[0m\u001b[0m\n\u001b[0;32m--> 289\u001b[0;31m     \u001b[0;32mreturn\u001b[0m \u001b[0m_constant_eager_impl\u001b[0m\u001b[0;34m(\u001b[0m\u001b[0mctx\u001b[0m\u001b[0;34m,\u001b[0m \u001b[0mvalue\u001b[0m\u001b[0;34m,\u001b[0m \u001b[0mdtype\u001b[0m\u001b[0;34m,\u001b[0m \u001b[0mshape\u001b[0m\u001b[0;34m,\u001b[0m \u001b[0mverify_shape\u001b[0m\u001b[0;34m)\u001b[0m\u001b[0;34m\u001b[0m\u001b[0;34m\u001b[0m\u001b[0m\n\u001b[0m\u001b[1;32m    290\u001b[0m \u001b[0;34m\u001b[0m\u001b[0m\n\u001b[1;32m    291\u001b[0m   const_tensor = ops._create_graph_constant(  # pylint: disable=protected-access\n",
            "\u001b[0;32m/usr/local/lib/python3.10/dist-packages/tensorflow/python/framework/constant_op.py\u001b[0m in \u001b[0;36m_constant_eager_impl\u001b[0;34m(ctx, value, dtype, shape, verify_shape)\u001b[0m\n\u001b[1;32m    299\u001b[0m ) -> ops._EagerTensorBase:\n\u001b[1;32m    300\u001b[0m   \u001b[0;34m\"\"\"Creates a constant on the current device.\"\"\"\u001b[0m\u001b[0;34m\u001b[0m\u001b[0;34m\u001b[0m\u001b[0m\n\u001b[0;32m--> 301\u001b[0;31m   \u001b[0mt\u001b[0m \u001b[0;34m=\u001b[0m \u001b[0mconvert_to_eager_tensor\u001b[0m\u001b[0;34m(\u001b[0m\u001b[0mvalue\u001b[0m\u001b[0;34m,\u001b[0m \u001b[0mctx\u001b[0m\u001b[0;34m,\u001b[0m \u001b[0mdtype\u001b[0m\u001b[0;34m)\u001b[0m\u001b[0;34m\u001b[0m\u001b[0;34m\u001b[0m\u001b[0m\n\u001b[0m\u001b[1;32m    302\u001b[0m   \u001b[0;32mif\u001b[0m \u001b[0mshape\u001b[0m \u001b[0;32mis\u001b[0m \u001b[0;32mNone\u001b[0m\u001b[0;34m:\u001b[0m\u001b[0;34m\u001b[0m\u001b[0;34m\u001b[0m\u001b[0m\n\u001b[1;32m    303\u001b[0m     \u001b[0;32mreturn\u001b[0m \u001b[0mt\u001b[0m\u001b[0;34m\u001b[0m\u001b[0;34m\u001b[0m\u001b[0m\n",
            "\u001b[0;32m/usr/local/lib/python3.10/dist-packages/tensorflow/python/framework/constant_op.py\u001b[0m in \u001b[0;36mconvert_to_eager_tensor\u001b[0;34m(value, ctx, dtype)\u001b[0m\n\u001b[1;32m    106\u001b[0m       \u001b[0mdtype\u001b[0m \u001b[0;34m=\u001b[0m \u001b[0mdtypes\u001b[0m\u001b[0;34m.\u001b[0m\u001b[0mas_dtype\u001b[0m\u001b[0;34m(\u001b[0m\u001b[0mdtype\u001b[0m\u001b[0;34m)\u001b[0m\u001b[0;34m.\u001b[0m\u001b[0mas_datatype_enum\u001b[0m\u001b[0;34m\u001b[0m\u001b[0;34m\u001b[0m\u001b[0m\n\u001b[1;32m    107\u001b[0m   \u001b[0mctx\u001b[0m\u001b[0;34m.\u001b[0m\u001b[0mensure_initialized\u001b[0m\u001b[0;34m(\u001b[0m\u001b[0;34m)\u001b[0m\u001b[0;34m\u001b[0m\u001b[0;34m\u001b[0m\u001b[0m\n\u001b[0;32m--> 108\u001b[0;31m   \u001b[0;32mreturn\u001b[0m \u001b[0mops\u001b[0m\u001b[0;34m.\u001b[0m\u001b[0mEagerTensor\u001b[0m\u001b[0;34m(\u001b[0m\u001b[0mvalue\u001b[0m\u001b[0;34m,\u001b[0m \u001b[0mctx\u001b[0m\u001b[0;34m.\u001b[0m\u001b[0mdevice_name\u001b[0m\u001b[0;34m,\u001b[0m \u001b[0mdtype\u001b[0m\u001b[0;34m)\u001b[0m\u001b[0;34m\u001b[0m\u001b[0;34m\u001b[0m\u001b[0m\n\u001b[0m\u001b[1;32m    109\u001b[0m \u001b[0;34m\u001b[0m\u001b[0m\n\u001b[1;32m    110\u001b[0m \u001b[0;34m\u001b[0m\u001b[0m\n",
            "\u001b[0;31mInternalError\u001b[0m: Failed copying input tensor from /job:localhost/replica:0/task:0/device:CPU:0 to /job:localhost/replica:0/task:0/device:GPU:0 in order to run _EagerConst: Dst tensor is not initialized."
          ]
        }
      ]
    },
    {
      "cell_type": "code",
      "source": [
        "# Po zakończeniu treningu na wszystkich częściach, walidacja\n",
        "df_valid_behaviors = pd.read_parquet('/content/drive/MyDrive/deep_learning_project/data/valid_full_preprocessed.parquet')\n",
        "df_valid_history = pd.read_parquet(valid_history_path)\n",
        "df_valid_articles = pd.read_parquet(valid_articles_path)\n",
        "\n",
        "valid_dataset, valid_user_histories_tensor = prepare_data(\n",
        "    df_valid_history, df_valid_behaviors, df_valid_articles,\n",
        "    article_to_index, embedding_matrix, max_history_length, user_id_to_index, is_training=False\n",
        ")\n",
        "model.user_histories_tensor = valid_user_histories_tensor\n",
        "\n",
        "model.evaluate(valid_dataset)"
      ],
      "metadata": {
        "id": "sN4Yb6G7teuf"
      },
      "execution_count": null,
      "outputs": []
    },
    {
      "cell_type": "code",
      "execution_count": null,
      "metadata": {
        "colab": {
          "base_uri": "https://localhost:8080/",
          "height": 53
        },
        "id": "aTJISifFd_K1",
        "outputId": "1cdf7554-6406-4890-d645-51421d0b5ff6"
      },
      "outputs": [
        {
          "output_type": "execute_result",
          "data": {
            "text/plain": [
              "'\\npredictions = model.predict(test_dataset)\\nlabels = np.concatenate([y for x, y in test_dataset], axis=0)\\n\\n# Flatten arrays\\npredictions_flat = predictions.flatten()\\nlabels_flat = labels.flatten()\\n\\n# Compute AUC\\nauc_score = roc_auc_score(labels_flat, predictions_flat)\\nprint(f\"AUC on test data: {auc_score:.4f}\")\\n'"
            ],
            "application/vnd.google.colaboratory.intrinsic+json": {
              "type": "string"
            }
          },
          "metadata": {},
          "execution_count": 228
        }
      ],
      "source": [
        "# Make predictions\n",
        "\"\"\"\n",
        "predictions = model.predict(test_dataset)\n",
        "labels = np.concatenate([y for x, y in test_dataset], axis=0)\n",
        "\n",
        "# Flatten arrays\n",
        "predictions_flat = predictions.flatten()\n",
        "labels_flat = labels.flatten()\n",
        "\n",
        "# Compute AUC\n",
        "auc_score = roc_auc_score(labels_flat, predictions_flat)\n",
        "print(f\"AUC on test data: {auc_score:.4f}\")\n",
        "\"\"\""
      ]
    },
    {
      "cell_type": "code",
      "source": [
        "def prepare_test_data(df_history, df_behaviors, df_articles, article_to_index, embedding_matrix, max_history_length, popularity_window_hours, top_n):\n",
        "    # Compute temporal features\n",
        "    df_behaviors = compute_session_time_features(df_behaviors)\n",
        "    df_behaviors = compute_user_activity_features(df_behaviors)\n",
        "    df_behaviors = compute_article_age(df_behaviors, df_articles)\n",
        "\n",
        "    # Compute and add in-session history\n",
        "    in_session_histories = build_in_session_histories(df_behaviors)\n",
        "    df_behaviors['in_session_history'] = df_behaviors.index.map(in_session_histories)\n",
        "\n",
        "    # Compute popularity features\n",
        "    df_behaviors = compute_popularity_features(df_behaviors, popularity_window_hours, top_n)\n",
        "\n",
        "    # Prepare user histories\n",
        "    user_histories_tensor, user_id_to_index = process_user_history(\n",
        "        df_history, article_to_index, embedding_matrix, max_history_length\n",
        "    )\n",
        "\n",
        "    # Prepare test sessions without labels\n",
        "    df_sessions = prepare_test_sessions(\n",
        "        df_behaviors, article_to_index, embedding_matrix,\n",
        "        max_articles_in_view=10, max_in_session_history=5, max_popularity_articles=10\n",
        "    )\n",
        "\n",
        "    # Create dataset without labels\n",
        "    dataset = create_tf_dataset_for_prediction(df_sessions, user_id_to_index, batch_size=32)\n",
        "\n",
        "    return dataset, user_histories_tensor, user_id_to_index, df_sessions\n",
        "\n",
        "test_dataset, test_user_histories_tensor, user_id_to_index, df_test_sessions = prepare_test_data(df_test_history, df_test_behaviors, df_test_articles, article_to_index, embedding_matrix, max_history_length, popularity_window_hours, top_N_popular_articles)"
      ],
      "metadata": {
        "id": "2kWf_C0b59KA"
      },
      "execution_count": null,
      "outputs": []
    },
    {
      "cell_type": "code",
      "source": [
        "# Switch the user histories tensor to those from test data (not sure if we need to do that)\n",
        "#model.user_histories_tensor = test_user_histories_tensor\n",
        "\n",
        "# Extract user indices\n",
        "user_indices = df_test_sessions['user_id'].map(user_id_to_index).astype(int).to_numpy()\n",
        "\n",
        "# Extract embeddings\n",
        "article_embeddings = np.stack(df_test_sessions['article_embeddings'].to_numpy())\n",
        "in_session_embeddings = np.stack(df_test_sessions['in_session_embeddings'].to_numpy())\n",
        "popularity_embeddings = np.stack(df_test_sessions['popularity_embeddings'].to_numpy())\n",
        "\n",
        "# Create an inputs list\n",
        "inputs = [user_indices, article_embeddings, in_session_embeddings, popularity_embeddings]\n",
        "\n",
        "# Make test predictions\n",
        "test_predictions = model.predict(inputs)"
      ],
      "metadata": {
        "id": "VkQzCN7e-yg7",
        "outputId": "9e996fa9-b557-4527-9012-f99544af79f1",
        "colab": {
          "base_uri": "https://localhost:8080/"
        }
      },
      "execution_count": null,
      "outputs": [
        {
          "output_type": "stream",
          "name": "stdout",
          "text": [
            "\u001b[1m793/793\u001b[0m \u001b[32m━━━━━━━━━━━━━━━━━━━━\u001b[0m\u001b[37m\u001b[0m \u001b[1m12s\u001b[0m 13ms/step\n"
          ]
        }
      ]
    },
    {
      "cell_type": "markdown",
      "source": [
        "# Ethical aspects"
      ],
      "metadata": {
        "id": "9Wzo7PA_La84"
      }
    },
    {
      "cell_type": "code",
      "execution_count": null,
      "metadata": {
        "id": "zwSSEtFsJAzV",
        "outputId": "0eafda0a-3bf6-4d2c-b39f-62cdd9651689",
        "colab": {
          "base_uri": "https://localhost:8080/"
        }
      },
      "outputs": [
        {
          "output_type": "stream",
          "name": "stdout",
          "text": [
            "Number of common articles: 2738\n",
            "Number of missing articles: 0\n"
          ]
        }
      ],
      "source": [
        "# Extract the column article_ids_inview from df_test_behaviors\n",
        "candidate_articles_test = df_test_behaviors['article_ids_inview'].tolist()\n",
        "\n",
        "# Convert the IDs to strings (only once necessary)\n",
        "candidate_articles_test = [[str(article) for article in articles] for articles in candidate_articles_test]\n",
        "\n",
        "# Convert all article_id values to strings in the embedding dataframe (if necessary)\n",
        "embedding_df['article_id'] = embedding_df['article_id'].astype(str)\n",
        "\n",
        "# Flatten the list of lists to create a set of unique candidate article IDs\n",
        "candidate_articles_flat = set(article for sublist in candidate_articles_test for article in sublist)\n",
        "embedding_articles = set(embedding_df['article_id'])\n",
        "\n",
        "# Common articles\n",
        "common_articles = candidate_articles_flat.intersection(embedding_articles)\n",
        "print(f\"Number of common articles: {len(common_articles)}\")\n",
        "\n",
        "# Missing articles\n",
        "missing_articles = candidate_articles_flat.difference(embedding_articles)\n",
        "print(f\"Number of missing articles: {len(missing_articles)}\")\n"
      ]
    },
    {
      "cell_type": "code",
      "source": [
        "# Extract the Top-N recommendations (e.g., Top-5)\n",
        "top_n = 10\n",
        "recommendations_test = [np.argsort(-pred)[:top_n] for pred in predictions]\n",
        "\n",
        "# Convert indices from recommendations_test to article IDs\n",
        "article_id_recommendations_test = [\n",
        "    [candidate_articles_test[user_idx][idx] for idx in rec_list if idx < len(candidate_articles_test[user_idx])]\n",
        "    for user_idx, rec_list in enumerate(recommendations_test)\n",
        "]\n",
        "\n",
        "# Convert article_id from strings to integers\n",
        "article_id_recommendations_test = [\n",
        "    [int(article) for article in rec_list]\n",
        "    for rec_list in article_id_recommendations_test\n",
        "]\n",
        "\n",
        "# Filter: Keep only article_id values that have embeddings\n",
        "article_id_recommendations_test = [\n",
        "    [article for article in rec_list if article in article_to_index]\n",
        "    for rec_list in article_id_recommendations_test\n",
        "]\n",
        "\n",
        "# Convert article_id values to embedding indices\n",
        "mapped_recommendations = [\n",
        "    [article_to_index[article] for article in rec_list if article in article_to_index]\n",
        "    for rec_list in article_id_recommendations_test\n",
        "]\n",
        "\n",
        "# Retrieve embeddings for the recommended lists\n",
        "recommended_embeddings = [\n",
        "    [embedding_matrix[idx] for idx in rec_list]\n",
        "    for rec_list in mapped_recommendations\n",
        "]\n"
      ],
      "metadata": {
        "id": "83-RQ1xKcfer"
      },
      "execution_count": null,
      "outputs": []
    },
    {
      "cell_type": "code",
      "execution_count": null,
      "metadata": {
        "colab": {
          "base_uri": "https://localhost:8080/"
        },
        "id": "N1qbvAyuJAzV",
        "outputId": "db01636f-f082-48b4-aedc-44dc897c2bf6"
      },
      "outputs": [
        {
          "output_type": "stream",
          "name": "stdout",
          "text": [
            "Diversity Score: 0.1857\n"
          ]
        }
      ],
      "source": [
        "from sklearn.metrics.pairwise import cosine_similarity\n",
        "import numpy as np\n",
        "\n",
        "def calculate_diversity_from_embeddings(recommended_embeddings):\n",
        "    \"\"\"\n",
        "    Calculates the average Diversity Score for the recommended embedding lists.\n",
        "\n",
        "    Args:\n",
        "        recommended_embeddings (list of list): Embeddings for the recommendation lists of each user.\n",
        "\n",
        "    Returns:\n",
        "        float: Average Diversity Score for all lists.\n",
        "    \"\"\"\n",
        "    diversities = []\n",
        "    for rec_list in recommended_embeddings:\n",
        "        if len(rec_list) > 1:  # If the list contains at least 2 articles\n",
        "            similarity_matrix = cosine_similarity(rec_list)\n",
        "            # Diversity: 1 - average similarity\n",
        "            pairwise_diversity = 1 - similarity_matrix[np.triu_indices(len(rec_list), k=1)].mean()\n",
        "            diversities.append(pairwise_diversity)\n",
        "        else:\n",
        "            diversities.append(0)  # If there's only 1 article, diversity = 0\n",
        "\n",
        "    # Average diversity score\n",
        "    return diversities\n",
        "diversities = calculate_diversity_from_embeddings(recommended_embeddings)\n",
        "# Call the function with the recommended embeddings\n",
        "diversity_score = np.mean(calculate_diversity_from_embeddings(recommended_embeddings))\n",
        "print(f\"Diversity Score: {diversity_score:.4f}\")\n"
      ]
    },
    {
      "cell_type": "markdown",
      "metadata": {
        "id": "i6DbH1U9JAzV"
      },
      "source": [
        "Diversity measures how different the articles in each user's ecommendation list are from one another.\n",
        "\n",
        "A Diversity Score of 0.1851 indicates that the articles within each recommendation list are not very diverse. This means that the system tends to recommend articles that are similar in content or topic for each user."
      ]
    },
    {
      "cell_type": "code",
      "execution_count": null,
      "metadata": {
        "colab": {
          "base_uri": "https://localhost:8080/",
          "height": 571
        },
        "id": "JbfNyfb8JAzW",
        "outputId": "34f41554-603f-4c0e-a929-1a4fe5b8c15b"
      },
      "outputs": [
        {
          "output_type": "display_data",
          "data": {
            "text/plain": [
              "<Figure size 1000x600 with 1 Axes>"
            ],
            "image/png": "[encoded data removed]"
          },
          "metadata": {}
        }
      ],
      "source": [
        "import matplotlib.pyplot as plt\n",
        "\n",
        "def plot_diversity_boxplot(diversities):\n",
        "    plt.figure(figsize=(10, 6))\n",
        "    plt.boxplot(diversities, vert=False, patch_artist=True, boxprops=dict(facecolor='lightblue', color='blue'),\n",
        "                whiskerprops=dict(color='blue', linewidth=1.5), medianprops=dict(color='red'))\n",
        "    plt.title('Box Plot of Diversity Scores', fontsize=16)\n",
        "    plt.xlabel('Diversity Score', fontsize=14)\n",
        "    plt.show()\n",
        "\n",
        "# Example usage\n",
        "# diversities = [0.1715, 0.432, 0.245, 0.876, 0.543, 0.332]  # Replace with your actual diversity scores\n",
        "plot_diversity_boxplot(diversities)\n"
      ]
    },
    {
      "cell_type": "markdown",
      "source": [
        "## Using Diversity into loss"
      ],
      "metadata": {
        "id": "LJpXXLxpodK6"
      }
    },
    {
      "cell_type": "markdown",
      "source": [
        "This code defines and trains the model to predict binary labels, incorporating a new objective: the diversity of predictions, alongside accuracy. It uses a custom loss function that combines the usual loss for binary classification (BinaryCrossentropy) with an additional loss function for measuring the diversity of the model's outputs. The diversity is calculated based on the predictions (embeddings) generated by the model during each training epoch. Here are the key steps in this process:\n",
        "\n",
        "Diversity Calculation:\n",
        "\n",
        "During training, the model generates predictions (embeddings) for the data.\n",
        "The diversity_loss function calculates the similarity of these predictions through a self dot product, creating a similarity matrix.\n",
        "From this matrix, calculating the average similarity (excluding the diagonal representing the similarity of an item with itself) provides the basis for calculating diversity, which is 1 minus the average similarity.\n",
        "Incorporation into the Loss Function:\n",
        "\n",
        "The final loss function combines the standard classification loss (e.g., BinaryCrossentropy) with diversity. This is achieved by adding the diversity value, scaled by a weighting factor (lambda_diversity), to the base loss.\n",
        "Adding the diversity term treats high similarity values as undesirable, encouraging the model to produce more distinct and diverse predictions.\n",
        "Training:\n",
        "\n",
        "As the model is trained, TensorFlow automatically adjusts the model's weights to minimize this combined loss, balancing the need for high accuracy and high diversity in predictions.\n",
        "Thus, diversity is not just a metric for evaluation but becomes a central part of how the model learns and adapts, seeking a good compromise between accuracy and diversity in its predictions."
      ],
      "metadata": {
        "id": "4Y1tgE-gz0dh"
      }
    },
    {
      "cell_type": "code",
      "source": [
        "import tensorflow as tf\n",
        "from tensorflow.keras.losses import BinaryCrossentropy\n",
        "\n",
        "def diversity_loss(embeddings, lambda_diversity=0.1):\n",
        "    similarity_matrix = tf.matmul(embeddings, embeddings, transpose_b=True)\n",
        "    upper_triangle = tf.linalg.band_part(similarity_matrix, 0, -1)\n",
        "    num_elements = tf.cast(tf.shape(upper_triangle)[0], tf.float32)  # Convert to float32\n",
        "    average_similarity = tf.reduce_mean(upper_triangle) - tf.linalg.trace(upper_triangle) / num_elements\n",
        "    diversity = 1 - average_similarity\n",
        "    return lambda_diversity * diversity\n",
        "\n",
        "\n",
        "class CustomLoss(tf.keras.losses.Loss):\n",
        "    def __init__(self, lambda_diversity=0.1, name=\"custom_loss\"):\n",
        "        super(CustomLoss, self).__init__(name=name)\n",
        "        self.lambda_diversity = lambda_diversity\n",
        "        self.base_loss = BinaryCrossentropy()\n",
        "\n",
        "    def call(self, y_true, y_pred):\n",
        "        # Base loss\n",
        "        base_loss_value = self.base_loss(y_true, y_pred)\n",
        "        # Add diversity loss\n",
        "        diversity_value = diversity_loss(y_pred, self.lambda_diversity)\n",
        "        return base_loss_value + diversity_value\n",
        "\n",
        "# In compile of model, use CustomLoss\n",
        "model.compile(optimizer=optimizer,\n",
        "              loss=CustomLoss(lambda_diversity=0.1),\n",
        "              metrics=[tf.keras.metrics.AUC(name=\"auc\")])\n"
      ],
      "metadata": {
        "id": "vytmNQxfoh9j"
      },
      "execution_count": null,
      "outputs": []
    },
    {
      "cell_type": "code",
      "source": [
        "# Train the model\n",
        "model.fit(\n",
        "    train_dataset,\n",
        "    validation_data=validation_dataset,\n",
        "    epochs=epochs_num,\n",
        "    callbacks=[reduce_lr]\n",
        ")\n"
      ],
      "metadata": {
        "id": "gIaSZE5vospM",
        "outputId": "b64da2e6-5c56-4614-d6b4-fa5b48e17ae1",
        "colab": {
          "base_uri": "https://localhost:8080/"
        }
      },
      "execution_count": null,
      "outputs": [
        {
          "output_type": "stream",
          "name": "stdout",
          "text": [
            "Epoch 1/16\n",
            "\u001b[1m773/773\u001b[0m \u001b[32m━━━━━━━━━━━━━━━━━━━━\u001b[0m\u001b[37m\u001b[0m \u001b[1m51s\u001b[0m 55ms/step - auc: 0.7814 - loss: 0.3554 - val_auc: 0.7117 - val_loss: 0.3795 - learning_rate: 8.7070e-04\n",
            "Epoch 2/16\n",
            "\u001b[1m773/773\u001b[0m \u001b[32m━━━━━━━━━━━━━━━━━━━━\u001b[0m\u001b[37m\u001b[0m \u001b[1m31s\u001b[0m 40ms/step - auc: 0.7846 - loss: 0.3546 - val_auc: 0.7216 - val_loss: 0.3750 - learning_rate: 8.6364e-04\n",
            "Epoch 3/16\n",
            "\u001b[1m773/773\u001b[0m \u001b[32m━━━━━━━━━━━━━━━━━━━━\u001b[0m\u001b[37m\u001b[0m \u001b[1m31s\u001b[0m 41ms/step - auc: 0.7863 - loss: 0.3541 - val_auc: 0.7228 - val_loss: 0.3752 - learning_rate: 8.5664e-04\n",
            "Epoch 4/16\n",
            "\u001b[1m773/773\u001b[0m \u001b[32m━━━━━━━━━━━━━━━━━━━━\u001b[0m\u001b[37m\u001b[0m \u001b[1m31s\u001b[0m 40ms/step - auc: 0.7877 - loss: 0.3536 - val_auc: 0.7230 - val_loss: 0.3762 - learning_rate: 8.4969e-04\n",
            "Epoch 5/16\n",
            "\u001b[1m773/773\u001b[0m \u001b[32m━━━━━━━━━━━━━━━━━━━━\u001b[0m\u001b[37m\u001b[0m \u001b[1m31s\u001b[0m 40ms/step - auc: 0.7907 - loss: 0.3529 - val_auc: 0.7206 - val_loss: 0.3768 - learning_rate: 8.4279e-04\n",
            "Epoch 6/16\n",
            "\u001b[1m773/773\u001b[0m \u001b[32m━━━━━━━━━━━━━━━━━━━━\u001b[0m\u001b[37m\u001b[0m \u001b[1m31s\u001b[0m 40ms/step - auc: 0.7935 - loss: 0.3520 - val_auc: 0.7202 - val_loss: 0.3778 - learning_rate: 8.3596e-04\n",
            "Epoch 7/16\n",
            "\u001b[1m773/773\u001b[0m \u001b[32m━━━━━━━━━━━━━━━━━━━━\u001b[0m\u001b[37m\u001b[0m \u001b[1m31s\u001b[0m 40ms/step - auc: 0.7964 - loss: 0.3512 - val_auc: 0.7205 - val_loss: 0.3767 - learning_rate: 8.2918e-04\n",
            "Epoch 8/16\n",
            "\u001b[1m773/773\u001b[0m \u001b[32m━━━━━━━━━━━━━━━━━━━━\u001b[0m\u001b[37m\u001b[0m \u001b[1m31s\u001b[0m 40ms/step - auc: 0.7989 - loss: 0.3504 - val_auc: 0.7174 - val_loss: 0.3790 - learning_rate: 8.2245e-04\n",
            "Epoch 9/16\n",
            "\u001b[1m773/773\u001b[0m \u001b[32m━━━━━━━━━━━━━━━━━━━━\u001b[0m\u001b[37m\u001b[0m \u001b[1m31s\u001b[0m 40ms/step - auc: 0.8020 - loss: 0.3495 - val_auc: 0.7153 - val_loss: 0.3798 - learning_rate: 8.1578e-04\n",
            "Epoch 10/16\n",
            "\u001b[1m773/773\u001b[0m \u001b[32m━━━━━━━━━━━━━━━━━━━━\u001b[0m\u001b[37m\u001b[0m \u001b[1m31s\u001b[0m 40ms/step - auc: 0.8051 - loss: 0.3486 - val_auc: 0.7152 - val_loss: 0.3774 - learning_rate: 8.0916e-04\n",
            "Epoch 11/16\n",
            "\u001b[1m773/773\u001b[0m \u001b[32m━━━━━━━━━━━━━━━━━━━━\u001b[0m\u001b[37m\u001b[0m \u001b[1m31s\u001b[0m 40ms/step - auc: 0.8075 - loss: 0.3479 - val_auc: 0.7132 - val_loss: 0.3805 - learning_rate: 8.0260e-04\n",
            "Epoch 12/16\n",
            "\u001b[1m773/773\u001b[0m \u001b[32m━━━━━━━━━━━━━━━━━━━━\u001b[0m\u001b[37m\u001b[0m \u001b[1m31s\u001b[0m 40ms/step - auc: 0.8099 - loss: 0.3471 - val_auc: 0.7105 - val_loss: 0.3823 - learning_rate: 7.9609e-04\n",
            "Epoch 13/16\n",
            "\u001b[1m773/773\u001b[0m \u001b[32m━━━━━━━━━━━━━━━━━━━━\u001b[0m\u001b[37m\u001b[0m \u001b[1m31s\u001b[0m 40ms/step - auc: 0.8122 - loss: 0.3464 - val_auc: 0.7111 - val_loss: 0.3831 - learning_rate: 7.8963e-04\n",
            "Epoch 14/16\n",
            "\u001b[1m773/773\u001b[0m \u001b[32m━━━━━━━━━━━━━━━━━━━━\u001b[0m\u001b[37m\u001b[0m \u001b[1m31s\u001b[0m 40ms/step - auc: 0.8138 - loss: 0.3459 - val_auc: 0.7110 - val_loss: 0.3835 - learning_rate: 7.8323e-04\n",
            "Epoch 15/16\n",
            "\u001b[1m773/773\u001b[0m \u001b[32m━━━━━━━━━━━━━━━━━━━━\u001b[0m\u001b[37m\u001b[0m \u001b[1m31s\u001b[0m 40ms/step - auc: 0.8151 - loss: 0.3454 - val_auc: 0.7101 - val_loss: 0.3849 - learning_rate: 7.7688e-04\n",
            "Epoch 16/16\n",
            "\u001b[1m773/773\u001b[0m \u001b[32m━━━━━━━━━━━━━━━━━━━━\u001b[0m\u001b[37m\u001b[0m \u001b[1m31s\u001b[0m 40ms/step - auc: 0.8182 - loss: 0.3445 - val_auc: 0.7080 - val_loss: 0.3857 - learning_rate: 7.7057e-04\n"
          ]
        },
        {
          "output_type": "execute_result",
          "data": {
            "text/plain": [
              "<keras.src.callbacks.history.History at 0x78230502fe20>"
            ]
          },
          "metadata": {},
          "execution_count": 236
        }
      ]
    },
    {
      "cell_type": "markdown",
      "source": [
        "## Serendipity"
      ],
      "metadata": {
        "id": "KC-r5DaTolY_"
      }
    },
    {
      "cell_type": "code",
      "source": [
        "predictions = model.predict(test_dataset)\n",
        "labels = np.concatenate([y for x, y in test_dataset], axis=0)\n",
        "\n",
        "# Flatten arrays\n",
        "predictions_flat = predictions.flatten()\n",
        "labels_flat = labels.flatten()\n",
        "\n",
        "# Compute AUC\n",
        "auc_score = roc_auc_score(labels_flat, predictions_flat)\n",
        "print(f\"AUC on test data: {auc_score:.4f}\")"
      ],
      "metadata": {
        "id": "EFiOXQdjQq5d"
      },
      "execution_count": null,
      "outputs": []
    },
    {
      "cell_type": "code",
      "execution_count": null,
      "metadata": {
        "id": "K6YNJCNrJAzW",
        "outputId": "da0d4e2d-69aa-4b19-c66a-ceab17277aff",
        "colab": {
          "base_uri": "https://localhost:8080/",
          "height": 547
        }
      },
      "outputs": [
        {
          "output_type": "error",
          "ename": "KeyError",
          "evalue": "'article_ids_clicked'",
          "traceback": [
            "\u001b[0;31m---------------------------------------------------------------------------\u001b[0m",
            "\u001b[0;31mKeyError\u001b[0m                                  Traceback (most recent call last)",
            "\u001b[0;32m/usr/local/lib/python3.10/dist-packages/pandas/core/indexes/base.py\u001b[0m in \u001b[0;36mget_loc\u001b[0;34m(self, key)\u001b[0m\n\u001b[1;32m   3804\u001b[0m         \u001b[0;32mtry\u001b[0m\u001b[0;34m:\u001b[0m\u001b[0;34m\u001b[0m\u001b[0;34m\u001b[0m\u001b[0m\n\u001b[0;32m-> 3805\u001b[0;31m             \u001b[0;32mreturn\u001b[0m \u001b[0mself\u001b[0m\u001b[0;34m.\u001b[0m\u001b[0m_engine\u001b[0m\u001b[0;34m.\u001b[0m\u001b[0mget_loc\u001b[0m\u001b[0;34m(\u001b[0m\u001b[0mcasted_key\u001b[0m\u001b[0;34m)\u001b[0m\u001b[0;34m\u001b[0m\u001b[0;34m\u001b[0m\u001b[0m\n\u001b[0m\u001b[1;32m   3806\u001b[0m         \u001b[0;32mexcept\u001b[0m \u001b[0mKeyError\u001b[0m \u001b[0;32mas\u001b[0m \u001b[0merr\u001b[0m\u001b[0;34m:\u001b[0m\u001b[0;34m\u001b[0m\u001b[0;34m\u001b[0m\u001b[0m\n",
            "\u001b[0;32mindex.pyx\u001b[0m in \u001b[0;36mpandas._libs.index.IndexEngine.get_loc\u001b[0;34m()\u001b[0m\n",
            "\u001b[0;32mindex.pyx\u001b[0m in \u001b[0;36mpandas._libs.index.IndexEngine.get_loc\u001b[0;34m()\u001b[0m\n",
            "\u001b[0;32mpandas/_libs/hashtable_class_helper.pxi\u001b[0m in \u001b[0;36mpandas._libs.hashtable.PyObjectHashTable.get_item\u001b[0;34m()\u001b[0m\n",
            "\u001b[0;32mpandas/_libs/hashtable_class_helper.pxi\u001b[0m in \u001b[0;36mpandas._libs.hashtable.PyObjectHashTable.get_item\u001b[0;34m()\u001b[0m\n",
            "\u001b[0;31mKeyError\u001b[0m: 'article_ids_clicked'",
            "\nThe above exception was the direct cause of the following exception:\n",
            "\u001b[0;31mKeyError\u001b[0m                                  Traceback (most recent call last)",
            "\u001b[0;32m<ipython-input-238-3117440bde88>\u001b[0m in \u001b[0;36m<cell line: 3>\u001b[0;34m()\u001b[0m\n\u001b[1;32m      1\u001b[0m \u001b[0;32mfrom\u001b[0m \u001b[0mcollections\u001b[0m \u001b[0;32mimport\u001b[0m \u001b[0mCounter\u001b[0m\u001b[0;34m\u001b[0m\u001b[0;34m\u001b[0m\u001b[0m\n\u001b[1;32m      2\u001b[0m \u001b[0;34m\u001b[0m\u001b[0m\n\u001b[0;32m----> 3\u001b[0;31m \u001b[0mclicked_articles_test\u001b[0m \u001b[0;34m=\u001b[0m \u001b[0mdf_test_behaviors\u001b[0m\u001b[0;34m[\u001b[0m\u001b[0;34m'article_ids_clicked'\u001b[0m\u001b[0;34m]\u001b[0m\u001b[0;34m.\u001b[0m\u001b[0mtolist\u001b[0m\u001b[0;34m(\u001b[0m\u001b[0;34m)\u001b[0m\u001b[0;34m\u001b[0m\u001b[0;34m\u001b[0m\u001b[0m\n\u001b[0m\u001b[1;32m      4\u001b[0m \u001b[0;34m\u001b[0m\u001b[0m\n\u001b[1;32m      5\u001b[0m \u001b[0;31m# Ensure that IDs are strings (to match other data formats)\u001b[0m\u001b[0;34m\u001b[0m\u001b[0;34m\u001b[0m\u001b[0m\n",
            "\u001b[0;32m/usr/local/lib/python3.10/dist-packages/pandas/core/frame.py\u001b[0m in \u001b[0;36m__getitem__\u001b[0;34m(self, key)\u001b[0m\n\u001b[1;32m   4100\u001b[0m             \u001b[0;32mif\u001b[0m \u001b[0mself\u001b[0m\u001b[0;34m.\u001b[0m\u001b[0mcolumns\u001b[0m\u001b[0;34m.\u001b[0m\u001b[0mnlevels\u001b[0m \u001b[0;34m>\u001b[0m \u001b[0;36m1\u001b[0m\u001b[0;34m:\u001b[0m\u001b[0;34m\u001b[0m\u001b[0;34m\u001b[0m\u001b[0m\n\u001b[1;32m   4101\u001b[0m                 \u001b[0;32mreturn\u001b[0m \u001b[0mself\u001b[0m\u001b[0;34m.\u001b[0m\u001b[0m_getitem_multilevel\u001b[0m\u001b[0;34m(\u001b[0m\u001b[0mkey\u001b[0m\u001b[0;34m)\u001b[0m\u001b[0;34m\u001b[0m\u001b[0;34m\u001b[0m\u001b[0m\n\u001b[0;32m-> 4102\u001b[0;31m             \u001b[0mindexer\u001b[0m \u001b[0;34m=\u001b[0m \u001b[0mself\u001b[0m\u001b[0;34m.\u001b[0m\u001b[0mcolumns\u001b[0m\u001b[0;34m.\u001b[0m\u001b[0mget_loc\u001b[0m\u001b[0;34m(\u001b[0m\u001b[0mkey\u001b[0m\u001b[0;34m)\u001b[0m\u001b[0;34m\u001b[0m\u001b[0;34m\u001b[0m\u001b[0m\n\u001b[0m\u001b[1;32m   4103\u001b[0m             \u001b[0;32mif\u001b[0m \u001b[0mis_integer\u001b[0m\u001b[0;34m(\u001b[0m\u001b[0mindexer\u001b[0m\u001b[0;34m)\u001b[0m\u001b[0;34m:\u001b[0m\u001b[0;34m\u001b[0m\u001b[0;34m\u001b[0m\u001b[0m\n\u001b[1;32m   4104\u001b[0m                 \u001b[0mindexer\u001b[0m \u001b[0;34m=\u001b[0m \u001b[0;34m[\u001b[0m\u001b[0mindexer\u001b[0m\u001b[0;34m]\u001b[0m\u001b[0;34m\u001b[0m\u001b[0;34m\u001b[0m\u001b[0m\n",
            "\u001b[0;32m/usr/local/lib/python3.10/dist-packages/pandas/core/indexes/base.py\u001b[0m in \u001b[0;36mget_loc\u001b[0;34m(self, key)\u001b[0m\n\u001b[1;32m   3810\u001b[0m             ):\n\u001b[1;32m   3811\u001b[0m                 \u001b[0;32mraise\u001b[0m \u001b[0mInvalidIndexError\u001b[0m\u001b[0;34m(\u001b[0m\u001b[0mkey\u001b[0m\u001b[0;34m)\u001b[0m\u001b[0;34m\u001b[0m\u001b[0;34m\u001b[0m\u001b[0m\n\u001b[0;32m-> 3812\u001b[0;31m             \u001b[0;32mraise\u001b[0m \u001b[0mKeyError\u001b[0m\u001b[0;34m(\u001b[0m\u001b[0mkey\u001b[0m\u001b[0;34m)\u001b[0m \u001b[0;32mfrom\u001b[0m \u001b[0merr\u001b[0m\u001b[0;34m\u001b[0m\u001b[0;34m\u001b[0m\u001b[0m\n\u001b[0m\u001b[1;32m   3813\u001b[0m         \u001b[0;32mexcept\u001b[0m \u001b[0mTypeError\u001b[0m\u001b[0;34m:\u001b[0m\u001b[0;34m\u001b[0m\u001b[0;34m\u001b[0m\u001b[0m\n\u001b[1;32m   3814\u001b[0m             \u001b[0;31m# If we have a listlike key, _check_indexing_error will raise\u001b[0m\u001b[0;34m\u001b[0m\u001b[0;34m\u001b[0m\u001b[0m\n",
            "\u001b[0;31mKeyError\u001b[0m: 'article_ids_clicked'"
          ]
        }
      ],
      "source": [
        "from collections import Counter\n",
        "\n",
        "clicked_articles_test = df_test_behaviors['article_ids_clicked'].tolist()\n",
        "\n",
        "# Ensure that IDs are strings (to match other data formats)\n",
        "clicked_articles_test = [[str(article) for article in articles] for articles in clicked_articles_test]\n",
        "\n",
        "# Count the frequency of articles in the training set\n",
        "article_counts = Counter(df_train_behaviors['article_id'])\n",
        "# Extract the Top-K most popular articles (e.g., Top-10)\n",
        "baseline_articles = [article for article, _ in article_counts.most_common(10)]\n",
        "\n",
        "# Ensure that IDs are strings\n",
        "baseline_articles = [str(article) for article in baseline_articles]\n",
        "\n",
        "# Convert clicked articles to integers\n",
        "clicked_articles_test = [[int(article) for article in articles] for articles in clicked_articles_test]\n"
      ]
    },
    {
      "cell_type": "code",
      "source": [
        "def calculate_serendipity(recommendations, clicked_articles, baseline_articles):\n",
        "    \"\"\"\n",
        "    Calculate the Serendipity Score for recommendations.\n",
        "\n",
        "    Args:\n",
        "        recommendations (list of list): Lists of recommended article IDs for each user.\n",
        "        clicked_articles (list of list): Lists of article IDs clicked by each user.\n",
        "        baseline_articles (list): List of popular article IDs used as a baseline.\n",
        "\n",
        "    Returns:\n",
        "        float: Average Serendipity Score across all users.\n",
        "    \"\"\"\n",
        "    serendipities = []\n",
        "    for rec_list, clicked in zip(recommendations, clicked_articles):\n",
        "        # Unexpected recommendations: not in baseline\n",
        "        unexpected = [article for article in rec_list if article not in baseline_articles]\n",
        "\n",
        "        # Relevant unexpected recommendations: clicked by the user\n",
        "        relevant = [article for article in unexpected if article in clicked]\n",
        "\n",
        "        # Serendipity score for the user\n",
        "        serendipity_score = len(relevant) / len(rec_list) if len(rec_list) > 0 else 0\n",
        "        serendipities.append(serendipity_score)\n",
        "\n",
        "    return serendipities\n",
        "serendipities = calculate_serendipity(article_id_recommendations_test, clicked_articles_test, baseline_articles)\n",
        "serendipity_score = np.mean(serendipities)\n",
        "print(f\"Serendipity Score: {serendipity_score:.4f}\")"
      ],
      "metadata": {
        "id": "f_K7ghz7cqq-"
      },
      "execution_count": null,
      "outputs": []
    },
    {
      "cell_type": "markdown",
      "metadata": {
        "id": "slyPv6SwJAzX"
      },
      "source": [
        "Serendipity measures the extent to which a recommendation system provides unexpected yet relevant recommendations to the user. It goes beyond accuracy by evaluating whether the recommendations surprise the user in a positive way.\n",
        "\n",
        "A Serendipity Score of 0.1173 indicates that the system provides a small percentage of unexpected but relevant recommendations to the users."
      ]
    },
    {
      "cell_type": "code",
      "execution_count": null,
      "metadata": {
        "id": "tDeW1d6_JAzX"
      },
      "outputs": [],
      "source": [
        "def plot_serendipity_histogram(serendipities):\n",
        "    plt.figure(figsize=(10, 6))\n",
        "    plt.hist(serendipities, bins=20, color='green', alpha=0.7, edgecolor='black')\n",
        "    plt.title('Distribution of Serendipity Scores', fontsize=16)\n",
        "    plt.xlabel('Serendipity Score', fontsize=14)\n",
        "    plt.ylabel('Frequency', fontsize=14)\n",
        "    plt.grid(axis='y', linestyle='--', alpha=0.7)\n",
        "    plt.show()\n",
        "\n",
        "# Example usage\n",
        "plot_serendipity_histogram(serendipities)\n"
      ]
    },
    {
      "cell_type": "markdown",
      "source": [
        "## Novelty"
      ],
      "metadata": {
        "id": "XE5f8zMF1LMC"
      }
    },
    {
      "cell_type": "code",
      "source": [
        "# Total number of articles in the training set\n",
        "total_count = sum(article_counts.values())\n",
        "\n",
        "# Create article_popularity dictionary\n",
        "article_popularity = {article: count / total_count for article, count in article_counts.items()}"
      ],
      "metadata": {
        "id": "Dk5t4x06cuaX"
      },
      "execution_count": null,
      "outputs": []
    },
    {
      "cell_type": "code",
      "execution_count": null,
      "metadata": {
        "id": "fhG_J5KGJAzX"
      },
      "outputs": [],
      "source": [
        "def calculate_novelty(recommendations, article_popularity):\n",
        "    \"\"\"\n",
        "    Calculate the Novelty Score for recommendations.\n",
        "\n",
        "    Args:\n",
        "        recommendations (list of list): Lists of recommended article IDs for each user.\n",
        "        article_popularity (dict): Dictionary mapping article IDs to popularity probabilities.\n",
        "\n",
        "    Returns:\n",
        "        float: Average Novelty Score across all users.\n",
        "    \"\"\"\n",
        "    novelty_scores = []\n",
        "    for rec_list in recommendations:\n",
        "        novelty_sum = 0\n",
        "        for article in rec_list:\n",
        "            # Get the popularity of the article, default to a very small probability\n",
        "            prob = article_popularity.get(article, 1e-6)\n",
        "            novelty_sum += -np.log(prob)\n",
        "\n",
        "        # Average novelty score for the user's recommendation list\n",
        "        novelty_scores.append(novelty_sum / len(rec_list) if len(rec_list) > 0 else 0)\n",
        "\n",
        "    return novelty_scores\n",
        "novelty_scores = calculate_novelty(article_id_recommendations_test, article_popularity)\n",
        "novelty_score = np.mean(novelty_scores)\n",
        "print(f\"Novelty Score: {novelty_score:.4f}\")"
      ]
    },
    {
      "cell_type": "markdown",
      "metadata": {
        "id": "Q8UHBUDlJAzX"
      },
      "source": [
        "Novelty measures how \"new\" or \"unfamiliar\" the recommended items are to the user, often based on their global popularity:\n",
        "\n",
        "Highly popular items are considered less novel because they are likely to be known by most users.\n",
        "Less popular items are considered more novel because they have a higher likelihood of being new to the user.\n",
        "\n",
        "A Novelty Score of 13.8155 indicates that the recommended articles are highly novel, meaning the system suggests articles that are generally less popular and not commonly seen by users."
      ]
    },
    {
      "cell_type": "code",
      "execution_count": null,
      "metadata": {
        "id": "ufEAmPirJAzX"
      },
      "outputs": [],
      "source": [
        "def plot_novelty_histogram(novelty_scores):\n",
        "    plt.figure(figsize=(10, 6))\n",
        "    plt.hist(novelty_scores, bins=20, color='orange', alpha=0.7, edgecolor='black')\n",
        "    plt.title('Distribution of Novelty Scores', fontsize=16)\n",
        "    plt.xlabel('Novelty Score', fontsize=14)\n",
        "    plt.ylabel('Frequency', fontsize=14)\n",
        "    plt.grid(axis='y', linestyle='--', alpha=0.7)\n",
        "    plt.show()\n",
        "\n",
        "# Example usage\n",
        "plot_novelty_histogram(novelty_scores)"
      ]
    },
    {
      "cell_type": "code",
      "source": [
        "total_articles = embedding_matrix.shape[0]\n"
      ],
      "metadata": {
        "id": "50waIBfTczIi"
      },
      "execution_count": null,
      "outputs": []
    },
    {
      "cell_type": "code",
      "execution_count": null,
      "metadata": {
        "id": "PZXSoPqeJAzX"
      },
      "outputs": [],
      "source": [
        "def calculate_item_coverage(recommendations, total_articles):\n",
        "    \"\"\"\n",
        "    Calculate the Item Coverage for recommendations.\n",
        "\n",
        "    Args:\n",
        "        recommendations (list of list): Lists of recommended article IDs for each user.\n",
        "        total_articles (int): Total number of articles available in the catalog.\n",
        "\n",
        "    Returns:\n",
        "        float: Coverage Score as a fraction of total articles covered.\n",
        "    \"\"\"\n",
        "    # Unique articles recommended across all users\n",
        "    recommended_articles = set(article for rec_list in recommendations for article in rec_list)\n",
        "\n",
        "    # Coverage is the fraction of unique articles recommended\n",
        "    return recommended_articles, len(recommended_articles) / total_articles\n",
        "recommended_articles,_ = calculate_item_coverage(article_id_recommendations_test, total_articles)\n",
        "_,coverage_score = calculate_item_coverage(article_id_recommendations_test, total_articles)\n",
        "print(f\"Item Coverage Score: {coverage_score:.4f}\")"
      ]
    },
    {
      "cell_type": "markdown",
      "metadata": {
        "id": "XzCizCSSJAzX"
      },
      "source": [
        "Coverage evaluates how well the recommendation system utilizes the available content:\n",
        "\n",
        "High Coverage: Suggests that the system explores a wide variety of articles.\n",
        "Low Coverage: Indicates that the system focuses only on a limited set of articles, potentially overlooking many others.\n",
        "\n",
        "An Item Coverage Score of 0.0316 means that the recommendation system uses only about 3.16% of the total articles in the catalog across all its recommendations.\n",
        "This indicates a strong bias toward a small subset of articles, likely the most relevant or popular ones."
      ]
    },
    {
      "cell_type": "code",
      "execution_count": null,
      "metadata": {
        "id": "opkPe7AGJAzX"
      },
      "outputs": [],
      "source": [
        "def plot_coverage_pie(recommended_articles, total_articles):\n",
        "    coverage_score = len(recommended_articles) / total_articles\n",
        "    plt.figure(figsize=(8, 6))\n",
        "    plt.pie(\n",
        "        [coverage_score, 1 - coverage_score],\n",
        "        labels=[\"Covered\", \"Not Covered\"],\n",
        "        autopct=\"%1.1f%%\",\n",
        "        colors=[\"lightblue\", \"lightgrey\"],\n",
        "        startangle=140\n",
        "    )\n",
        "    plt.title(\"Proportion of Catalog Covered\", fontsize=16)\n",
        "    plt.show()\n",
        "\n",
        "# Example usage\n",
        "plot_coverage_pie(recommended_articles, total_articles)"
      ]
    }
  ],
  "metadata": {
    "accelerator": "GPU",
    "colab": {
      "gpuType": "T4",
      "machine_shape": "hm",
      "provenance": []
    },
    "kernelspec": {
      "display_name": "Python 3",
      "name": "python3"
    },
    "language_info": {
      "name": "python"
    }
  },
  "nbformat": 4,
  "nbformat_minor": 0
}