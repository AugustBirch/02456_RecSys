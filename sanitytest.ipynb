{
 "cells": [
  {
   "cell_type": "code",
   "execution_count": null,
   "metadata": {},
   "outputs": [],
   "source": [
    "import pandas as pd\n",
    "import numpy as np\n",
    "import os\n",
    "import polars as pl\n",
    "\n",
    "\n",
    "base_dir = os.path.abspath(os.path.join(os.getcwd(), \"..\"))\n",
    "train_path = os.path.join(base_dir, \"Data\", \"large\", \"train\")\n",
    "\n",
    "# df_train_history = pd.read_parquet(os.path.join(train_path, 'history.parquet'))\n",
    "df_train_behaviors = pd.read_parquet(os.path.join(train_path, 'behaviors.parquet'))\n",
    "# df_train_behaviors = pl.read_parquet(os.path.join(train_path, 'behaviors.parquet'))\n",
    "# df_train_articles = pd.read_parquet(os.path.join(train_path, 'articles.parquet'))"
   ]
  },
  {
   "cell_type": "code",
   "execution_count": null,
   "metadata": {},
   "outputs": [],
   "source": [
    "# print(df_train_behaviors.columns)\n",
    "print(len(df_train_behaviors))\n",
    "print(df_train_behaviors.head(5))"
   ]
  },
  {
   "cell_type": "code",
   "execution_count": null,
   "metadata": {},
   "outputs": [],
   "source": [
    "import pandas as pd\n",
    "\n",
    "# Count rows where 'article_ids_clicked' has more than one unique value\n",
    "count = df_train_behaviors['article_ids_clicked'].apply(len).lt(1).sum()\n",
    "print(\"Counter:\", count)\n"
   ]
  },
  {
   "cell_type": "code",
   "execution_count": null,
   "metadata": {},
   "outputs": [],
   "source": [
    "counter = 0\n",
    "for id, row in df_train_behaviors.iterrows():\n",
    "    # print(row['article_ids_clicked'])\n",
    "    unique_clicked = np.unique(row['article_ids_clicked'])\n",
    "    if len(unique_clicked) > 1:\n",
    "        print(\"-------------------\")\n",
    "        print(f\"next read time: {row['next_read_time']}\")\n",
    "        print(f\"next scroll percentage: {row['next_scroll_percentage']}\")\n",
    "        print(f\"view:    {row['article_ids_inview']}\")\n",
    "        print(f\"clicked:  {row['article_ids_clicked']}\")\n",
    "        # print(row)\n",
    "        counter += 1\n",
    "\n",
    "print(\"Only uniques:  \", counter)"
   ]
  }
 ],
 "metadata": {
  "kernelspec": {
   "display_name": "Python 3",
   "language": "python",
   "name": "python3"
  },
  "language_info": {
   "codemirror_mode": {
    "name": "ipython",
    "version": 3
   },
   "file_extension": ".py",
   "mimetype": "text/x-python",
   "name": "python",
   "nbconvert_exporter": "python",
   "pygments_lexer": "ipython3",
   "version": "3.12.5"
  }
 },
 "nbformat": 4,
 "nbformat_minor": 2
}
